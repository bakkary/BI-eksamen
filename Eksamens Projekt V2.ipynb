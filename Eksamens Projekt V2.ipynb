{
 "cells": [
  {
   "cell_type": "code",
   "execution_count": null,
   "metadata": {},
   "outputs": [],
   "source": [
    "! pip install plotly\n",
    "! pip install folium\n",
    "! pip install fuzzywuzzy\n",
    "! pip install python-Levenshtein"
   ]
  },
  {
   "cell_type": "code",
   "execution_count": 2,
   "metadata": {},
   "outputs": [],
   "source": [
    "# import pandas for structuring the data\n",
    "import pandas as pd\n",
    "\n",
    "# import numpy for numerical analysis\n",
    "import numpy as np\n",
    "\n",
    "# import libs for diagrams inline with the text\n",
    "import matplotlib.pyplot as plt\n",
    "%matplotlib inline\n",
    "import seaborn as sns\n",
    "\n",
    "# other utilities\n",
    "from sklearn import datasets, preprocessing, metrics"
   ]
  },
  {
   "cell_type": "code",
   "execution_count": 3,
   "metadata": {},
   "outputs": [],
   "source": [
    "# for visualisation\n",
    "import matplotlib.pyplot as plt\n",
    "import seaborn as sns\n",
    "import plotly.express as px\n",
    "import plotly.graph_objects as go\n",
    "import plotly.figure_factory as ff\n",
    "import plotly.io as pio\n",
    "from sklearn.model_selection import train_test_split\n",
    "from sklearn import linear_model\n",
    "from sklearn.linear_model import LinearRegression\n",
    "import sklearn.metrics as sm\n",
    "import folium\n",
    "\n",
    "# for diagramming \n",
    "from mpl_toolkits.mplot3d import Axes3D\n",
    "import matplotlib.pyplot as plt\n",
    "import seaborn as sns\n",
    "\n",
    "# For serialization and deserialization of data from/to file\n",
    "import pickle"
   ]
  },
  {
   "cell_type": "code",
   "execution_count": 6,
   "metadata": {},
   "outputs": [],
   "source": [
    "# read the json file from your data folder into a data frame\n",
    "#df = pd.read_csv(r'C:\\Users\\chz\\Documents\\BI Exercise\\\\BI Exam\\global air pollution dataset.csv')\n",
    "df = pd.read_csv(r'DataSæt\\global air pollution dataset.csv')\n",
    "df2 = pd.read_csv(r\"Datasæt\\2017_-_Cities_Community_Wide_Emissions.csv\")"
   ]
  },
  {
   "cell_type": "code",
   "execution_count": 7,
   "metadata": {},
   "outputs": [],
   "source": [
    "# Standardizing the 'Country' column in both DataFrames\n",
    "df['Country'] = df['Country'].str.title().str.strip()\n",
    "df2['Country'] = df2['Country'].str.title().str.strip()\n",
    "\n",
    "# Merging df and df2 based on 'Country' after standardization\n",
    "df_merged = pd.merge(df, df2, on='Country', how='outer')\n",
    "\n",
    "# Sampling 50 rows from the merged DataFrame to verify the operation\n",
    "# Note: Since the actual DataFrames are empty in this simulation, this step is for demonstration purposes.\n",
    "sampled_df_merged = df_merged.sample(50)"
   ]
  },
  {
   "cell_type": "code",
   "execution_count": 8,
   "metadata": {},
   "outputs": [
    {
     "data": {
      "text/plain": [
       "Country                                         65872\n",
       "City_x                                          66200\n",
       "AQI Value                                       66201\n",
       "AQI Category                                    66201\n",
       "CO AQI Value                                    66201\n",
       "CO AQI Category                                 66201\n",
       "Ozone AQI Value                                 66201\n",
       "Ozone AQI Category                              66201\n",
       "NO2 AQI Value                                   66201\n",
       "NO2 AQI Category                                66201\n",
       "PM2.5 AQI Value                                 66201\n",
       "PM2.5 AQI Category                              66201\n",
       "Account number                                  53096\n",
       "Organization                                    53096\n",
       "City_y                                          53096\n",
       "Region                                          53096\n",
       "C40                                             14673\n",
       "Access                                          53096\n",
       "Reporting year                                  53096\n",
       "Accounting year                                 53096\n",
       "Boundary                                        53096\n",
       "Protocol                                        53096\n",
       "Protocol column                                 42604\n",
       "Gases included                                  24158\n",
       "Total emissions (metric tonnes CO2e)            49759\n",
       "Scopes Included                                 53096\n",
       "Total Scope 1 Emissions (metric tonnes CO2e)    33667\n",
       "Total Scope 2 Emissions (metric tonnes CO2e)    35932\n",
       "Comment                                         13267\n",
       "Increase/Decrease from last year                44060\n",
       "Reason for increase/decrease in emissions       40220\n",
       "Population                                      53096\n",
       "Population year                                 53096\n",
       "GDP                                             45805\n",
       "GDP Currency                                    41764\n",
       "GDP Year                                        46970\n",
       "GDP Source                                      44814\n",
       "Average annual temperature (in Celsius)​        50573\n",
       "​Average altitude (m)                           49791\n",
       "​Land area (in square km)                       51534\n",
       "City Location                                   53096\n",
       "Country Location                                53096\n",
       "dtype: int64"
      ]
     },
     "execution_count": 8,
     "metadata": {},
     "output_type": "execute_result"
    }
   ],
   "source": [
    "df_merged.count()"
   ]
  },
  {
   "cell_type": "code",
   "execution_count": 9,
   "metadata": {},
   "outputs": [
    {
     "data": {
      "text/plain": [
       "Country                                           427\n",
       "City_x                                             99\n",
       "AQI Value                                          98\n",
       "AQI Category                                       98\n",
       "CO AQI Value                                       98\n",
       "CO AQI Category                                    98\n",
       "Ozone AQI Value                                    98\n",
       "Ozone AQI Category                                 98\n",
       "NO2 AQI Value                                      98\n",
       "NO2 AQI Category                                   98\n",
       "PM2.5 AQI Value                                    98\n",
       "PM2.5 AQI Category                                 98\n",
       "Account number                                  13203\n",
       "Organization                                    13203\n",
       "City_y                                          13203\n",
       "Region                                          13203\n",
       "C40                                             51626\n",
       "Access                                          13203\n",
       "Reporting year                                  13203\n",
       "Accounting year                                 13203\n",
       "Boundary                                        13203\n",
       "Protocol                                        13203\n",
       "Protocol column                                 23695\n",
       "Gases included                                  42141\n",
       "Total emissions (metric tonnes CO2e)            16540\n",
       "Scopes Included                                 13203\n",
       "Total Scope 1 Emissions (metric tonnes CO2e)    32632\n",
       "Total Scope 2 Emissions (metric tonnes CO2e)    30367\n",
       "Comment                                         53032\n",
       "Increase/Decrease from last year                22239\n",
       "Reason for increase/decrease in emissions       26079\n",
       "Population                                      13203\n",
       "Population year                                 13203\n",
       "GDP                                             20494\n",
       "GDP Currency                                    24535\n",
       "GDP Year                                        19329\n",
       "GDP Source                                      21485\n",
       "Average annual temperature (in Celsius)​        15726\n",
       "​Average altitude (m)                           16508\n",
       "​Land area (in square km)                       14765\n",
       "City Location                                   13203\n",
       "Country Location                                13203\n",
       "dtype: int64"
      ]
     },
     "execution_count": 9,
     "metadata": {},
     "output_type": "execute_result"
    }
   ],
   "source": [
    "df_merged.isnull().sum()"
   ]
  },
  {
   "cell_type": "code",
   "execution_count": 10,
   "metadata": {},
   "outputs": [],
   "source": [
    "df_merged.drop(columns=['Gases included'], inplace=True)\n",
    "df_merged.drop(columns=['Comment'], inplace=True)\n",
    "df_merged.drop(columns=['Total Scope 1 Emissions (metric tonnes CO2e)'], inplace=True)\n",
    "df_merged.drop(columns=['Total Scope 2 Emissions (metric tonnes CO2e)'], inplace=True)\n",
    "\n",
    "\n"
   ]
  },
  {
   "cell_type": "code",
   "execution_count": 11,
   "metadata": {},
   "outputs": [],
   "source": [
    "df_merged['C40'] = df_merged['C40'].fillna(False)\n"
   ]
  },
  {
   "cell_type": "code",
   "execution_count": 12,
   "metadata": {},
   "outputs": [],
   "source": [
    "# Delete the null values from the data frame\n",
    "df_merged = df_merged.dropna()"
   ]
  },
  {
   "cell_type": "code",
   "execution_count": 13,
   "metadata": {},
   "outputs": [
    {
     "data": {
      "text/plain": [
       "Country                                      0\n",
       "City_x                                       0\n",
       "AQI Value                                    0\n",
       "AQI Category                                 0\n",
       "CO AQI Value                                 0\n",
       "CO AQI Category                              0\n",
       "Ozone AQI Value                              0\n",
       "Ozone AQI Category                           0\n",
       "NO2 AQI Value                                0\n",
       "NO2 AQI Category                             0\n",
       "PM2.5 AQI Value                              0\n",
       "PM2.5 AQI Category                           0\n",
       "Account number                               0\n",
       "Organization                                 0\n",
       "City_y                                       0\n",
       "Region                                       0\n",
       "C40                                          0\n",
       "Access                                       0\n",
       "Reporting year                               0\n",
       "Accounting year                              0\n",
       "Boundary                                     0\n",
       "Protocol                                     0\n",
       "Protocol column                              0\n",
       "Total emissions (metric tonnes CO2e)         0\n",
       "Scopes Included                              0\n",
       "Increase/Decrease from last year             0\n",
       "Reason for increase/decrease in emissions    0\n",
       "Population                                   0\n",
       "Population year                              0\n",
       "GDP                                          0\n",
       "GDP Currency                                 0\n",
       "GDP Year                                     0\n",
       "GDP Source                                   0\n",
       "Average annual temperature (in Celsius)​     0\n",
       "​Average altitude (m)                        0\n",
       "​Land area (in square km)                    0\n",
       "City Location                                0\n",
       "Country Location                             0\n",
       "dtype: int64"
      ]
     },
     "execution_count": 13,
     "metadata": {},
     "output_type": "execute_result"
    }
   ],
   "source": [
    "# Check the data frame for null values\n",
    "df_merged.isnull().sum()"
   ]
  },
  {
   "cell_type": "code",
   "execution_count": 14,
   "metadata": {},
   "outputs": [
    {
     "data": {
      "text/plain": [
       "Country                                      28833\n",
       "City_x                                       28833\n",
       "AQI Value                                    28833\n",
       "AQI Category                                 28833\n",
       "CO AQI Value                                 28833\n",
       "CO AQI Category                              28833\n",
       "Ozone AQI Value                              28833\n",
       "Ozone AQI Category                           28833\n",
       "NO2 AQI Value                                28833\n",
       "NO2 AQI Category                             28833\n",
       "PM2.5 AQI Value                              28833\n",
       "PM2.5 AQI Category                           28833\n",
       "Account number                               28833\n",
       "Organization                                 28833\n",
       "City_y                                       28833\n",
       "Region                                       28833\n",
       "C40                                          28833\n",
       "Access                                       28833\n",
       "Reporting year                               28833\n",
       "Accounting year                              28833\n",
       "Boundary                                     28833\n",
       "Protocol                                     28833\n",
       "Protocol column                              28833\n",
       "Total emissions (metric tonnes CO2e)         28833\n",
       "Scopes Included                              28833\n",
       "Increase/Decrease from last year             28833\n",
       "Reason for increase/decrease in emissions    28833\n",
       "Population                                   28833\n",
       "Population year                              28833\n",
       "GDP                                          28833\n",
       "GDP Currency                                 28833\n",
       "GDP Year                                     28833\n",
       "GDP Source                                   28833\n",
       "Average annual temperature (in Celsius)​     28833\n",
       "​Average altitude (m)                        28833\n",
       "​Land area (in square km)                    28833\n",
       "City Location                                28833\n",
       "Country Location                             28833\n",
       "dtype: int64"
      ]
     },
     "execution_count": 14,
     "metadata": {},
     "output_type": "execute_result"
    }
   ],
   "source": [
    "df_merged.count()"
   ]
  },
  {
   "cell_type": "code",
   "execution_count": 15,
   "metadata": {},
   "outputs": [],
   "source": [
    "df = df_merged"
   ]
  },
  {
   "cell_type": "code",
   "execution_count": 5,
   "metadata": {},
   "outputs": [
    {
     "name": "stdout",
     "output_type": "stream",
     "text": [
      "     Country            City_x  AQI Value AQI Category  CO AQI Value  \\\n",
      "1242  Brazil  Presidente Dutra       41.0         Good           1.0   \n",
      "1243  Brazil  Presidente Dutra       41.0         Good           1.0   \n",
      "1247  Brazil  Presidente Dutra       41.0         Good           1.0   \n",
      "1248  Brazil  Presidente Dutra       41.0         Good           1.0   \n",
      "1249  Brazil  Presidente Dutra       41.0         Good           1.0   \n",
      "\n",
      "     CO AQI Category  Ozone AQI Value Ozone AQI Category  NO2 AQI Value  \\\n",
      "1242            Good              5.0               Good            1.0   \n",
      "1243            Good              5.0               Good            1.0   \n",
      "1247            Good              5.0               Good            1.0   \n",
      "1248            Good              5.0               Good            1.0   \n",
      "1249            Good              5.0               Good            1.0   \n",
      "\n",
      "     NO2 AQI Category  ...  Average annual temperature (in Celsius)​  \\\n",
      "1242             Good  ...                                      23.0   \n",
      "1243             Good  ...                                      20.0   \n",
      "1247             Good  ...                                      23.7   \n",
      "1248             Good  ...                                      18.0   \n",
      "1249             Good  ...                                      21.0   \n",
      "\n",
      "     ​Average altitude (m)  ​Land area (in square km) City Latitude  \\\n",
      "1242                   5.0                      133.1    -22.892857   \n",
      "1243                   3.0                      438.0    -27.594988   \n",
      "1247                   5.0                     1224.6    -22.905439   \n",
      "1248                 935.0                      434.0    -25.431063   \n",
      "1249                1172.0                     5780.0    -15.794229   \n",
      "\n",
      "     City Longitude Country Latitude Country Longitude  C40_True C40_False  \\\n",
      "1242     -43.118381       -14.235004         -51.92528         0         1   \n",
      "1243     -48.548174       -14.235004         -51.92528         0         1   \n",
      "1247     -43.561447       -14.235004         -51.92528         1         0   \n",
      "1248     -49.264693       -14.235004         -51.92528         1         0   \n",
      "1249     -47.882166       -14.235004         -51.92528         0         1   \n",
      "\n",
      "          Continent  \n",
      "1242  South America  \n",
      "1243  South America  \n",
      "1247  South America  \n",
      "1248  South America  \n",
      "1249  South America  \n",
      "\n",
      "[5 rows x 42 columns]\n",
      "The DataFrame contains a 'Continent' column.\n"
     ]
    }
   ],
   "source": [
    "# Load the pickle file into a DataFrame\n",
    "df = pd.read_pickle(r\"C:\\Users\\chz\\Documents\\GitHub\\BI-eksamen\\Streamlit\\dataframe.pkl\")\n",
    "\n",
    "# Display the first few rows of the DataFrame to inspect its columns\n",
    "print(df.head())\n",
    "\n",
    "# Check if 'Continent' column exists\n",
    "if 'Continent' in df.columns:\n",
    "    print(\"The DataFrame contains a 'Continent' column.\")\n",
    "else:\n",
    "    print(\"The DataFrame does not contain a 'Continent' column.\")"
   ]
  },
  {
   "cell_type": "code",
   "execution_count": null,
   "metadata": {},
   "outputs": [],
   "source": []
  }
 ],
 "metadata": {
  "kernelspec": {
   "display_name": "base",
   "language": "python",
   "name": "python3"
  },
  "language_info": {
   "codemirror_mode": {
    "name": "ipython",
    "version": 3
   },
   "file_extension": ".py",
   "mimetype": "text/x-python",
   "name": "python",
   "nbconvert_exporter": "python",
   "pygments_lexer": "ipython3",
   "version": "3.11.5"
  }
 },
 "nbformat": 4,
 "nbformat_minor": 2
}
