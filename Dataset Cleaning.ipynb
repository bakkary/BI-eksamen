{
 "cells": [
  {
   "cell_type": "code",
   "execution_count": 13,
   "metadata": {},
   "outputs": [
    {
     "name": "stdout",
     "output_type": "stream",
     "text": [
      "Requirement already satisfied: plotly in c:\\users\\chz\\anaconda3\\lib\\site-packages (5.9.0)\n",
      "Requirement already satisfied: tenacity>=6.2.0 in c:\\users\\chz\\anaconda3\\lib\\site-packages (from plotly) (8.2.2)\n",
      "Requirement already satisfied: Streamlit in c:\\users\\chz\\anaconda3\\lib\\site-packages (1.31.1)\n",
      "Requirement already satisfied: altair<6,>=4.0 in c:\\users\\chz\\anaconda3\\lib\\site-packages (from Streamlit) (5.2.0)\n",
      "Requirement already satisfied: blinker<2,>=1.0.0 in c:\\users\\chz\\anaconda3\\lib\\site-packages (from Streamlit) (1.7.0)\n",
      "Requirement already satisfied: cachetools<6,>=4.0 in c:\\users\\chz\\anaconda3\\lib\\site-packages (from Streamlit) (5.3.3)\n",
      "Requirement already satisfied: click<9,>=7.0 in c:\\users\\chz\\anaconda3\\lib\\site-packages (from Streamlit) (8.0.4)\n",
      "Requirement already satisfied: importlib-metadata<8,>=1.4 in c:\\users\\chz\\anaconda3\\lib\\site-packages (from Streamlit) (6.0.0)\n",
      "Requirement already satisfied: numpy<2,>=1.19.3 in c:\\users\\chz\\anaconda3\\lib\\site-packages (from Streamlit) (1.26.4)\n",
      "Requirement already satisfied: packaging<24,>=16.8 in c:\\users\\chz\\anaconda3\\lib\\site-packages (from Streamlit) (23.1)\n",
      "Requirement already satisfied: pandas<3,>=1.3.0 in c:\\users\\chz\\anaconda3\\lib\\site-packages (from Streamlit) (2.0.3)\n",
      "Requirement already satisfied: pillow<11,>=7.1.0 in c:\\users\\chz\\anaconda3\\lib\\site-packages (from Streamlit) (10.0.1)\n",
      "Requirement already satisfied: protobuf<5,>=3.20 in c:\\users\\chz\\anaconda3\\lib\\site-packages (from Streamlit) (4.25.3)\n",
      "Requirement already satisfied: pyarrow>=7.0 in c:\\users\\chz\\anaconda3\\lib\\site-packages (from Streamlit) (11.0.0)\n",
      "Requirement already satisfied: python-dateutil<3,>=2.7.3 in c:\\users\\chz\\anaconda3\\lib\\site-packages (from Streamlit) (2.8.2)\n",
      "Requirement already satisfied: requests<3,>=2.27 in c:\\users\\chz\\anaconda3\\lib\\site-packages (from Streamlit) (2.31.0)\n",
      "Requirement already satisfied: rich<14,>=10.14.0 in c:\\users\\chz\\anaconda3\\lib\\site-packages (from Streamlit) (13.7.0)\n",
      "Requirement already satisfied: tenacity<9,>=8.1.0 in c:\\users\\chz\\anaconda3\\lib\\site-packages (from Streamlit) (8.2.2)\n",
      "Requirement already satisfied: toml<2,>=0.10.1 in c:\\users\\chz\\anaconda3\\lib\\site-packages (from Streamlit) (0.10.2)\n",
      "Requirement already satisfied: typing-extensions<5,>=4.3.0 in c:\\users\\chz\\anaconda3\\lib\\site-packages (from Streamlit) (4.10.0)\n",
      "Requirement already satisfied: tzlocal<6,>=1.1 in c:\\users\\chz\\anaconda3\\lib\\site-packages (from Streamlit) (5.2)\n",
      "Requirement already satisfied: validators<1,>=0.2 in c:\\users\\chz\\anaconda3\\lib\\site-packages (from Streamlit) (0.22.0)\n",
      "Requirement already satisfied: gitpython!=3.1.19,<4,>=3.0.7 in c:\\users\\chz\\anaconda3\\lib\\site-packages (from Streamlit) (3.1.42)\n",
      "Requirement already satisfied: pydeck<1,>=0.8.0b4 in c:\\users\\chz\\anaconda3\\lib\\site-packages (from Streamlit) (0.8.1b0)\n",
      "Requirement already satisfied: tornado<7,>=6.0.3 in c:\\users\\chz\\anaconda3\\lib\\site-packages (from Streamlit) (6.3.2)\n",
      "Requirement already satisfied: watchdog>=2.1.5 in c:\\users\\chz\\anaconda3\\lib\\site-packages (from Streamlit) (2.1.6)\n",
      "Requirement already satisfied: jinja2 in c:\\users\\chz\\anaconda3\\lib\\site-packages (from altair<6,>=4.0->Streamlit) (3.1.3)\n",
      "Requirement already satisfied: jsonschema>=3.0 in c:\\users\\chz\\anaconda3\\lib\\site-packages (from altair<6,>=4.0->Streamlit) (4.17.3)\n",
      "Requirement already satisfied: toolz in c:\\users\\chz\\anaconda3\\lib\\site-packages (from altair<6,>=4.0->Streamlit) (0.12.0)\n",
      "Requirement already satisfied: colorama in c:\\users\\chz\\anaconda3\\lib\\site-packages (from click<9,>=7.0->Streamlit) (0.4.6)\n",
      "Requirement already satisfied: gitdb<5,>=4.0.1 in c:\\users\\chz\\anaconda3\\lib\\site-packages (from gitpython!=3.1.19,<4,>=3.0.7->Streamlit) (4.0.11)\n",
      "Requirement already satisfied: zipp>=0.5 in c:\\users\\chz\\anaconda3\\lib\\site-packages (from importlib-metadata<8,>=1.4->Streamlit) (3.11.0)\n",
      "Requirement already satisfied: pytz>=2020.1 in c:\\users\\chz\\anaconda3\\lib\\site-packages (from pandas<3,>=1.3.0->Streamlit) (2023.3.post1)\n",
      "Requirement already satisfied: tzdata>=2022.1 in c:\\users\\chz\\anaconda3\\lib\\site-packages (from pandas<3,>=1.3.0->Streamlit) (2023.3)\n",
      "Requirement already satisfied: six>=1.5 in c:\\users\\chz\\anaconda3\\lib\\site-packages (from python-dateutil<3,>=2.7.3->Streamlit) (1.16.0)\n",
      "Requirement already satisfied: charset-normalizer<4,>=2 in c:\\users\\chz\\anaconda3\\lib\\site-packages (from requests<3,>=2.27->Streamlit) (3.3.2)\n",
      "Requirement already satisfied: idna<4,>=2.5 in c:\\users\\chz\\anaconda3\\lib\\site-packages (from requests<3,>=2.27->Streamlit) (3.6)\n",
      "Requirement already satisfied: urllib3<3,>=1.21.1 in c:\\users\\chz\\anaconda3\\lib\\site-packages (from requests<3,>=2.27->Streamlit) (2.2.1)\n",
      "Requirement already satisfied: certifi>=2017.4.17 in c:\\users\\chz\\anaconda3\\lib\\site-packages (from requests<3,>=2.27->Streamlit) (2024.2.2)\n",
      "Requirement already satisfied: markdown-it-py>=2.2.0 in c:\\users\\chz\\anaconda3\\lib\\site-packages (from rich<14,>=10.14.0->Streamlit) (2.2.0)\n",
      "Requirement already satisfied: pygments<3.0.0,>=2.13.0 in c:\\users\\chz\\anaconda3\\lib\\site-packages (from rich<14,>=10.14.0->Streamlit) (2.15.1)\n",
      "Requirement already satisfied: smmap<6,>=3.0.1 in c:\\users\\chz\\anaconda3\\lib\\site-packages (from gitdb<5,>=4.0.1->gitpython!=3.1.19,<4,>=3.0.7->Streamlit) (5.0.1)\n",
      "Requirement already satisfied: MarkupSafe>=2.0 in c:\\users\\chz\\anaconda3\\lib\\site-packages (from jinja2->altair<6,>=4.0->Streamlit) (2.1.5)\n",
      "Requirement already satisfied: attrs>=17.4.0 in c:\\users\\chz\\anaconda3\\lib\\site-packages (from jsonschema>=3.0->altair<6,>=4.0->Streamlit) (22.1.0)\n",
      "Requirement already satisfied: pyrsistent!=0.17.0,!=0.17.1,!=0.17.2,>=0.14.0 in c:\\users\\chz\\anaconda3\\lib\\site-packages (from jsonschema>=3.0->altair<6,>=4.0->Streamlit) (0.18.0)\n",
      "Requirement already satisfied: mdurl~=0.1 in c:\\users\\chz\\anaconda3\\lib\\site-packages (from markdown-it-py>=2.2.0->rich<14,>=10.14.0->Streamlit) (0.1.0)\n",
      "Requirement already satisfied: folium in c:\\users\\chz\\anaconda3\\lib\\site-packages (0.16.0)\n",
      "Requirement already satisfied: branca>=0.6.0 in c:\\users\\chz\\anaconda3\\lib\\site-packages (from folium) (0.7.1)\n",
      "Requirement already satisfied: jinja2>=2.9 in c:\\users\\chz\\anaconda3\\lib\\site-packages (from folium) (3.1.3)\n",
      "Requirement already satisfied: numpy in c:\\users\\chz\\anaconda3\\lib\\site-packages (from folium) (1.26.4)\n",
      "Requirement already satisfied: requests in c:\\users\\chz\\anaconda3\\lib\\site-packages (from folium) (2.31.0)\n",
      "Requirement already satisfied: xyzservices in c:\\users\\chz\\anaconda3\\lib\\site-packages (from folium) (2023.10.1)\n",
      "Requirement already satisfied: MarkupSafe>=2.0 in c:\\users\\chz\\anaconda3\\lib\\site-packages (from jinja2>=2.9->folium) (2.1.5)\n",
      "Requirement already satisfied: charset-normalizer<4,>=2 in c:\\users\\chz\\anaconda3\\lib\\site-packages (from requests->folium) (3.3.2)\n",
      "Requirement already satisfied: idna<4,>=2.5 in c:\\users\\chz\\anaconda3\\lib\\site-packages (from requests->folium) (3.6)\n",
      "Requirement already satisfied: urllib3<3,>=1.21.1 in c:\\users\\chz\\anaconda3\\lib\\site-packages (from requests->folium) (2.2.1)\n",
      "Requirement already satisfied: certifi>=2017.4.17 in c:\\users\\chz\\anaconda3\\lib\\site-packages (from requests->folium) (2024.2.2)\n",
      "Requirement already satisfied: fuzzywuzzy in c:\\users\\chz\\anaconda3\\lib\\site-packages (0.18.0)\n",
      "Requirement already satisfied: python-Levenshtein in c:\\users\\chz\\anaconda3\\lib\\site-packages (0.25.0)\n",
      "Requirement already satisfied: Levenshtein==0.25.0 in c:\\users\\chz\\anaconda3\\lib\\site-packages (from python-Levenshtein) (0.25.0)\n",
      "Requirement already satisfied: rapidfuzz<4.0.0,>=3.1.0 in c:\\users\\chz\\anaconda3\\lib\\site-packages (from Levenshtein==0.25.0->python-Levenshtein) (3.6.1)\n",
      "Requirement already satisfied: pycountry-convert in c:\\users\\chz\\anaconda3\\lib\\site-packages (0.7.2)\n",
      "Requirement already satisfied: pprintpp>=0.3.0 in c:\\users\\chz\\anaconda3\\lib\\site-packages (from pycountry-convert) (0.4.0)\n",
      "Requirement already satisfied: pycountry>=16.11.27.1 in c:\\users\\chz\\anaconda3\\lib\\site-packages (from pycountry-convert) (23.12.11)\n",
      "Requirement already satisfied: pytest>=3.4.0 in c:\\users\\chz\\anaconda3\\lib\\site-packages (from pycountry-convert) (7.4.0)\n",
      "Requirement already satisfied: pytest-mock>=1.6.3 in c:\\users\\chz\\anaconda3\\lib\\site-packages (from pycountry-convert) (3.12.0)\n",
      "Requirement already satisfied: pytest-cov>=2.5.1 in c:\\users\\chz\\anaconda3\\lib\\site-packages (from pycountry-convert) (4.1.0)\n",
      "Requirement already satisfied: repoze.lru>=0.7 in c:\\users\\chz\\anaconda3\\lib\\site-packages (from pycountry-convert) (0.7)\n",
      "Requirement already satisfied: wheel>=0.30.0 in c:\\users\\chz\\anaconda3\\lib\\site-packages (from pycountry-convert) (0.38.4)\n",
      "Requirement already satisfied: iniconfig in c:\\users\\chz\\anaconda3\\lib\\site-packages (from pytest>=3.4.0->pycountry-convert) (1.1.1)\n",
      "Requirement already satisfied: packaging in c:\\users\\chz\\anaconda3\\lib\\site-packages (from pytest>=3.4.0->pycountry-convert) (23.1)\n",
      "Requirement already satisfied: pluggy<2.0,>=0.12 in c:\\users\\chz\\anaconda3\\lib\\site-packages (from pytest>=3.4.0->pycountry-convert) (1.0.0)\n",
      "Requirement already satisfied: colorama in c:\\users\\chz\\anaconda3\\lib\\site-packages (from pytest>=3.4.0->pycountry-convert) (0.4.6)\n",
      "Requirement already satisfied: coverage[toml]>=5.2.1 in c:\\users\\chz\\anaconda3\\lib\\site-packages (from pytest-cov>=2.5.1->pycountry-convert) (7.4.3)\n",
      "Requirement already satisfied: streamlit-folium in c:\\users\\chz\\anaconda3\\lib\\site-packages (0.18.0)\n",
      "Requirement already satisfied: streamlit>=1.13.0 in c:\\users\\chz\\anaconda3\\lib\\site-packages (from streamlit-folium) (1.31.1)\n",
      "Requirement already satisfied: folium!=0.15.0,>=0.13 in c:\\users\\chz\\anaconda3\\lib\\site-packages (from streamlit-folium) (0.16.0)\n",
      "Requirement already satisfied: jinja2 in c:\\users\\chz\\anaconda3\\lib\\site-packages (from streamlit-folium) (3.1.3)\n",
      "Requirement already satisfied: branca in c:\\users\\chz\\anaconda3\\lib\\site-packages (from streamlit-folium) (0.7.1)\n",
      "Requirement already satisfied: numpy in c:\\users\\chz\\anaconda3\\lib\\site-packages (from folium!=0.15.0,>=0.13->streamlit-folium) (1.26.4)\n",
      "Requirement already satisfied: requests in c:\\users\\chz\\anaconda3\\lib\\site-packages (from folium!=0.15.0,>=0.13->streamlit-folium) (2.31.0)\n",
      "Requirement already satisfied: xyzservices in c:\\users\\chz\\anaconda3\\lib\\site-packages (from folium!=0.15.0,>=0.13->streamlit-folium) (2023.10.1)\n",
      "Requirement already satisfied: MarkupSafe>=2.0 in c:\\users\\chz\\anaconda3\\lib\\site-packages (from jinja2->streamlit-folium) (2.1.5)\n",
      "Requirement already satisfied: altair<6,>=4.0 in c:\\users\\chz\\anaconda3\\lib\\site-packages (from streamlit>=1.13.0->streamlit-folium) (5.2.0)\n",
      "Requirement already satisfied: blinker<2,>=1.0.0 in c:\\users\\chz\\anaconda3\\lib\\site-packages (from streamlit>=1.13.0->streamlit-folium) (1.7.0)\n",
      "Requirement already satisfied: cachetools<6,>=4.0 in c:\\users\\chz\\anaconda3\\lib\\site-packages (from streamlit>=1.13.0->streamlit-folium) (5.3.3)\n",
      "Requirement already satisfied: click<9,>=7.0 in c:\\users\\chz\\anaconda3\\lib\\site-packages (from streamlit>=1.13.0->streamlit-folium) (8.0.4)\n",
      "Requirement already satisfied: importlib-metadata<8,>=1.4 in c:\\users\\chz\\anaconda3\\lib\\site-packages (from streamlit>=1.13.0->streamlit-folium) (6.0.0)\n",
      "Requirement already satisfied: packaging<24,>=16.8 in c:\\users\\chz\\anaconda3\\lib\\site-packages (from streamlit>=1.13.0->streamlit-folium) (23.1)\n",
      "Requirement already satisfied: pandas<3,>=1.3.0 in c:\\users\\chz\\anaconda3\\lib\\site-packages (from streamlit>=1.13.0->streamlit-folium) (2.0.3)\n",
      "Requirement already satisfied: pillow<11,>=7.1.0 in c:\\users\\chz\\anaconda3\\lib\\site-packages (from streamlit>=1.13.0->streamlit-folium) (10.0.1)\n",
      "Requirement already satisfied: protobuf<5,>=3.20 in c:\\users\\chz\\anaconda3\\lib\\site-packages (from streamlit>=1.13.0->streamlit-folium) (4.25.3)\n",
      "Requirement already satisfied: pyarrow>=7.0 in c:\\users\\chz\\anaconda3\\lib\\site-packages (from streamlit>=1.13.0->streamlit-folium) (11.0.0)\n",
      "Requirement already satisfied: python-dateutil<3,>=2.7.3 in c:\\users\\chz\\anaconda3\\lib\\site-packages (from streamlit>=1.13.0->streamlit-folium) (2.8.2)\n",
      "Requirement already satisfied: rich<14,>=10.14.0 in c:\\users\\chz\\anaconda3\\lib\\site-packages (from streamlit>=1.13.0->streamlit-folium) (13.7.0)\n",
      "Requirement already satisfied: tenacity<9,>=8.1.0 in c:\\users\\chz\\anaconda3\\lib\\site-packages (from streamlit>=1.13.0->streamlit-folium) (8.2.2)\n",
      "Requirement already satisfied: toml<2,>=0.10.1 in c:\\users\\chz\\anaconda3\\lib\\site-packages (from streamlit>=1.13.0->streamlit-folium) (0.10.2)\n",
      "Requirement already satisfied: typing-extensions<5,>=4.3.0 in c:\\users\\chz\\anaconda3\\lib\\site-packages (from streamlit>=1.13.0->streamlit-folium) (4.10.0)\n",
      "Requirement already satisfied: tzlocal<6,>=1.1 in c:\\users\\chz\\anaconda3\\lib\\site-packages (from streamlit>=1.13.0->streamlit-folium) (5.2)\n",
      "Requirement already satisfied: validators<1,>=0.2 in c:\\users\\chz\\anaconda3\\lib\\site-packages (from streamlit>=1.13.0->streamlit-folium) (0.22.0)\n",
      "Requirement already satisfied: gitpython!=3.1.19,<4,>=3.0.7 in c:\\users\\chz\\anaconda3\\lib\\site-packages (from streamlit>=1.13.0->streamlit-folium) (3.1.42)\n",
      "Requirement already satisfied: pydeck<1,>=0.8.0b4 in c:\\users\\chz\\anaconda3\\lib\\site-packages (from streamlit>=1.13.0->streamlit-folium) (0.8.1b0)\n",
      "Requirement already satisfied: tornado<7,>=6.0.3 in c:\\users\\chz\\anaconda3\\lib\\site-packages (from streamlit>=1.13.0->streamlit-folium) (6.3.2)\n",
      "Requirement already satisfied: watchdog>=2.1.5 in c:\\users\\chz\\anaconda3\\lib\\site-packages (from streamlit>=1.13.0->streamlit-folium) (2.1.6)\n",
      "Requirement already satisfied: jsonschema>=3.0 in c:\\users\\chz\\anaconda3\\lib\\site-packages (from altair<6,>=4.0->streamlit>=1.13.0->streamlit-folium) (4.17.3)\n",
      "Requirement already satisfied: toolz in c:\\users\\chz\\anaconda3\\lib\\site-packages (from altair<6,>=4.0->streamlit>=1.13.0->streamlit-folium) (0.12.0)\n",
      "Requirement already satisfied: colorama in c:\\users\\chz\\anaconda3\\lib\\site-packages (from click<9,>=7.0->streamlit>=1.13.0->streamlit-folium) (0.4.6)\n",
      "Requirement already satisfied: gitdb<5,>=4.0.1 in c:\\users\\chz\\anaconda3\\lib\\site-packages (from gitpython!=3.1.19,<4,>=3.0.7->streamlit>=1.13.0->streamlit-folium) (4.0.11)\n",
      "Requirement already satisfied: zipp>=0.5 in c:\\users\\chz\\anaconda3\\lib\\site-packages (from importlib-metadata<8,>=1.4->streamlit>=1.13.0->streamlit-folium) (3.11.0)\n",
      "Requirement already satisfied: pytz>=2020.1 in c:\\users\\chz\\anaconda3\\lib\\site-packages (from pandas<3,>=1.3.0->streamlit>=1.13.0->streamlit-folium) (2023.3.post1)\n",
      "Requirement already satisfied: tzdata>=2022.1 in c:\\users\\chz\\anaconda3\\lib\\site-packages (from pandas<3,>=1.3.0->streamlit>=1.13.0->streamlit-folium) (2023.3)\n",
      "Requirement already satisfied: six>=1.5 in c:\\users\\chz\\anaconda3\\lib\\site-packages (from python-dateutil<3,>=2.7.3->streamlit>=1.13.0->streamlit-folium) (1.16.0)\n",
      "Requirement already satisfied: charset-normalizer<4,>=2 in c:\\users\\chz\\anaconda3\\lib\\site-packages (from requests->folium!=0.15.0,>=0.13->streamlit-folium) (3.3.2)\n",
      "Requirement already satisfied: idna<4,>=2.5 in c:\\users\\chz\\anaconda3\\lib\\site-packages (from requests->folium!=0.15.0,>=0.13->streamlit-folium) (3.6)\n",
      "Requirement already satisfied: urllib3<3,>=1.21.1 in c:\\users\\chz\\anaconda3\\lib\\site-packages (from requests->folium!=0.15.0,>=0.13->streamlit-folium) (2.2.1)\n",
      "Requirement already satisfied: certifi>=2017.4.17 in c:\\users\\chz\\anaconda3\\lib\\site-packages (from requests->folium!=0.15.0,>=0.13->streamlit-folium) (2024.2.2)\n",
      "Requirement already satisfied: markdown-it-py>=2.2.0 in c:\\users\\chz\\anaconda3\\lib\\site-packages (from rich<14,>=10.14.0->streamlit>=1.13.0->streamlit-folium) (2.2.0)\n",
      "Requirement already satisfied: pygments<3.0.0,>=2.13.0 in c:\\users\\chz\\anaconda3\\lib\\site-packages (from rich<14,>=10.14.0->streamlit>=1.13.0->streamlit-folium) (2.15.1)\n",
      "Requirement already satisfied: smmap<6,>=3.0.1 in c:\\users\\chz\\anaconda3\\lib\\site-packages (from gitdb<5,>=4.0.1->gitpython!=3.1.19,<4,>=3.0.7->streamlit>=1.13.0->streamlit-folium) (5.0.1)\n",
      "Requirement already satisfied: attrs>=17.4.0 in c:\\users\\chz\\anaconda3\\lib\\site-packages (from jsonschema>=3.0->altair<6,>=4.0->streamlit>=1.13.0->streamlit-folium) (22.1.0)\n",
      "Requirement already satisfied: pyrsistent!=0.17.0,!=0.17.1,!=0.17.2,>=0.14.0 in c:\\users\\chz\\anaconda3\\lib\\site-packages (from jsonschema>=3.0->altair<6,>=4.0->streamlit>=1.13.0->streamlit-folium) (0.18.0)\n",
      "Requirement already satisfied: mdurl~=0.1 in c:\\users\\chz\\anaconda3\\lib\\site-packages (from markdown-it-py>=2.2.0->rich<14,>=10.14.0->streamlit>=1.13.0->streamlit-folium) (0.1.0)\n",
      "Requirement already satisfied: branca in c:\\users\\chz\\anaconda3\\lib\\site-packages (0.7.1)\n",
      "Requirement already satisfied: jinja2>=3 in c:\\users\\chz\\anaconda3\\lib\\site-packages (from branca) (3.1.3)\n",
      "Requirement already satisfied: MarkupSafe>=2.0 in c:\\users\\chz\\anaconda3\\lib\\site-packages (from jinja2>=3->branca) (2.1.5)\n",
      "Requirement already satisfied: joblib in c:\\users\\chz\\anaconda3\\lib\\site-packages (1.2.0)\n"
     ]
    }
   ],
   "source": [
    "! pip install plotly\n",
    "! pip install Streamlit\n",
    "! pip install folium\n",
    "! pip install fuzzywuzzy\n",
    "! pip install python-Levenshtein\n",
    "! pip install pycountry-convert\n",
    "! pip install streamlit-folium\n",
    "! pip install branca\n",
    "! pip install joblib\n"
   ]
  },
  {
   "cell_type": "code",
   "execution_count": 1,
   "metadata": {},
   "outputs": [],
   "source": [
    "# import pandas for structuring the data\n",
    "import pandas as pd\n",
    "# import numpy for numerical analysis\n",
    "import numpy as np\n",
    "\n",
    "# import libs for diagrams inline with the text\n",
    "import matplotlib.pyplot as plt\n",
    "import os\n",
    "import seaborn as sns\n",
    "\n",
    "# other utilities\n",
    "from sklearn import datasets, preprocessing, metrics\n",
    "\n",
    "# for visualisation\n",
    "import matplotlib.pyplot as plt\n",
    "import seaborn as sns\n",
    "import plotly.express as px\n",
    "import plotly.graph_objects as go\n",
    "import plotly.figure_factory as ff\n",
    "import plotly.io as pio\n",
    "from sklearn.model_selection import train_test_split\n",
    "from sklearn import linear_model\n",
    "from sklearn.linear_model import LinearRegression\n",
    "import sklearn.metrics as sm\n",
    "\n",
    "# for diagramming \n",
    "from mpl_toolkits.mplot3d import Axes3D\n",
    "import matplotlib.pyplot as plt\n",
    "import seaborn as sns\n",
    "\n",
    "# For serialization and deserialization of data from/to file\n",
    "import pickle\n",
    "\n",
    "from sklearn.preprocessing import OneHotEncoder, StandardScaler\n",
    "from sklearn.compose import ColumnTransformer\n",
    "from sklearn.pipeline import Pipeline\n",
    "from sklearn.impute import SimpleImputer\n",
    "\n",
    "import folium"
   ]
  },
  {
   "cell_type": "code",
   "execution_count": 2,
   "metadata": {},
   "outputs": [],
   "source": [
    "import pandas as pd\n",
    "\n",
    "#Read the CSV files into data frames\n",
    "dataset_path = os.path.join('DataSæt', 'global air pollution dataset.csv')\n",
    "dataset_path2 = os.path.join('DataSæt', '2017_-_Cities_Community_Wide_Emissions.csv')\n",
    "\n",
    "# Loading the datasets\n",
    "df = pd.read_csv(dataset_path)\n",
    "df2 = pd.read_csv(dataset_path2)"
   ]
  },
  {
   "cell_type": "code",
   "execution_count": 3,
   "metadata": {},
   "outputs": [],
   "source": [
    "# Define the correction mapping with the correct capitalization\n",
    "correction_mapping = {\n",
    "    \"United States of America\": \"USA\",\n",
    "    \"Viet Nam\": \"Vietnam\",\n",
    "    \"Russian Federation\": \"Russia\",\n",
    "    \"United Kingdom of Great Britain and Northern Ireland\": \"United Kingdom\",\n",
    "    \"Bolivia (Plurinational State of)\": \"Bolivia\",\n",
    "    \"Venezuela (Bolivarian Republic of)\": \"Venezuela\",\n",
    "    \"Iran (Islamic Republic of)\": \"Iran\",\n",
    "    \"Syrian Arab Republic\": \"Syria\",\n",
    "    \"Republic of Korea\": \"South Korea\",\n",
    "    \"Lao People's Democratic Republic\": \"Laos\",\n",
    "    # Add other corrections as needed\n",
    "}\n",
    "\n",
    "# Apply the correction mapping to df and df2 and overwrite the original 'Country' column\n",
    "df['Country'] = df['Country'].replace(correction_mapping).str.strip()\n",
    "df2['Country'] = df2['Country'].replace(correction_mapping).str.strip()\n",
    "\n",
    "# Proceed with the merge using the corrected country names\n",
    "df_merged = pd.merge(df, df2, on='Country', how='inner')\n",
    "\n",
    "# Rename 'City_x' to 'City' and 'Country_x' to 'Country'\n",
    "df_merged.rename(columns={'City_x': 'City',}, inplace=True)\n",
    "\n",
    "# Drop the extra 'Country' column\n",
    "df_merged.drop(columns=['City_y'], inplace=True)\n",
    "\n",
    "# Rearrange the columns\n",
    "column_order = ['Country', 'City', 'AQI Value', 'AQI Category', 'CO AQI Value', 'CO AQI Category', 'Ozone AQI Value', 'Ozone AQI Category', 'NO2 AQI Value', 'NO2 AQI Category', 'PM2.5 AQI Value', 'PM2.5 AQI Category', 'Account number', 'Organization', 'Region', 'C40', 'Access', 'Reporting year', 'Accounting year', 'Boundary', 'Protocol', 'Protocol column', 'Gases included', 'Total emissions (metric tonnes CO2e)', 'Total Scope 1 Emissions (metric tonnes CO2e)', 'Total Scope 2 Emissions (metric tonnes CO2e)', 'Comment', 'Increase/Decrease from last year', 'Reason for increase/decrease in emissions', 'Population', 'Population year', 'GDP', 'GDP Currency', 'GDP Year', 'GDP Source', 'Average annual temperature (in Celsius)​', '​Average altitude (m)', '​Land area (in square km)', 'City Location', 'Country Location']\n",
    "# Reorder the DataFrame columns\n",
    "df_merged = df_merged[column_order]\n"
   ]
  },
  {
   "cell_type": "code",
   "execution_count": 4,
   "metadata": {},
   "outputs": [],
   "source": [
    "df_merged.drop(columns=['Gases included'], inplace=True)\n",
    "df_merged.drop(columns=['Protocol column'], inplace=True)\n",
    "df_merged.drop(columns=['Comment'], inplace=True)\n",
    "df_merged.drop(columns=['Total Scope 1 Emissions (metric tonnes CO2e)'], inplace=True)\n",
    "df_merged.drop(columns=['Total Scope 2 Emissions (metric tonnes CO2e)'], inplace=True)\n",
    "df_merged.drop(columns=['Account number'], inplace=True)\n",
    "df_merged.drop(columns=['Organization'], inplace=True)\n",
    "df_merged.drop(columns=['Accounting year'], inplace=True)\n",
    "df_merged.drop(columns=['Boundary'], inplace=True)\n",
    "df_merged.drop(columns=['Protocol'], inplace=True)\n",
    "df_merged.drop(columns=['Increase/Decrease from last year'], inplace=True)\n",
    "df_merged.drop(columns=['Reason for increase/decrease in emissions'], inplace=True)\n",
    "df_merged.drop(columns=['Population year'], inplace=True)\n",
    "df_merged.drop(columns=['GDP Currency'], inplace=True)\n",
    "df_merged.drop(columns=['GDP Source'], inplace=True)\n",
    "df_merged.drop(columns=['Access'], inplace=True)\n",
    "\n"
   ]
  },
  {
   "cell_type": "code",
   "execution_count": 5,
   "metadata": {},
   "outputs": [],
   "source": [
    "# Convert nulls/NaNs to 'False'\n",
    "df_merged['C40'] = df_merged['C40'].fillna('False')\n",
    "\n",
    "# Convert any cell that contains \"C40\" to 'True', assuming \"C40\" indicates a true condition\n",
    "# Adjust the condition as needed to match your data's specific representation of true\n",
    "df_merged['C40'] = df_merged['C40'].apply(lambda x: 'True' if 'C40' in str(x) else 'False')\n"
   ]
  },
  {
   "cell_type": "code",
   "execution_count": 6,
   "metadata": {},
   "outputs": [],
   "source": [
    "# Delete the null values from the data frame\n",
    "df_merged = df_merged.dropna()"
   ]
  },
  {
   "cell_type": "code",
   "execution_count": 21,
   "metadata": {},
   "outputs": [
    {
     "ename": "KeyError",
     "evalue": "'City Location'",
     "output_type": "error",
     "traceback": [
      "\u001b[1;31m---------------------------------------------------------------------------\u001b[0m",
      "\u001b[1;31mKeyError\u001b[0m                                  Traceback (most recent call last)",
      "File \u001b[1;32mc:\\Users\\chz\\anaconda3\\Lib\\site-packages\\pandas\\core\\indexes\\base.py:3653\u001b[0m, in \u001b[0;36mIndex.get_loc\u001b[1;34m(self, key)\u001b[0m\n\u001b[0;32m   3652\u001b[0m \u001b[38;5;28;01mtry\u001b[39;00m:\n\u001b[1;32m-> 3653\u001b[0m     \u001b[38;5;28;01mreturn\u001b[39;00m \u001b[38;5;28mself\u001b[39m\u001b[38;5;241m.\u001b[39m_engine\u001b[38;5;241m.\u001b[39mget_loc(casted_key)\n\u001b[0;32m   3654\u001b[0m \u001b[38;5;28;01mexcept\u001b[39;00m \u001b[38;5;167;01mKeyError\u001b[39;00m \u001b[38;5;28;01mas\u001b[39;00m err:\n",
      "File \u001b[1;32mc:\\Users\\chz\\anaconda3\\Lib\\site-packages\\pandas\\_libs\\index.pyx:147\u001b[0m, in \u001b[0;36mpandas._libs.index.IndexEngine.get_loc\u001b[1;34m()\u001b[0m\n",
      "File \u001b[1;32mc:\\Users\\chz\\anaconda3\\Lib\\site-packages\\pandas\\_libs\\index.pyx:176\u001b[0m, in \u001b[0;36mpandas._libs.index.IndexEngine.get_loc\u001b[1;34m()\u001b[0m\n",
      "File \u001b[1;32mpandas\\_libs\\hashtable_class_helper.pxi:7080\u001b[0m, in \u001b[0;36mpandas._libs.hashtable.PyObjectHashTable.get_item\u001b[1;34m()\u001b[0m\n",
      "File \u001b[1;32mpandas\\_libs\\hashtable_class_helper.pxi:7088\u001b[0m, in \u001b[0;36mpandas._libs.hashtable.PyObjectHashTable.get_item\u001b[1;34m()\u001b[0m\n",
      "\u001b[1;31mKeyError\u001b[0m: 'City Location'",
      "\nThe above exception was the direct cause of the following exception:\n",
      "\u001b[1;31mKeyError\u001b[0m                                  Traceback (most recent call last)",
      "Cell \u001b[1;32mIn[21], line 2\u001b[0m\n\u001b[0;32m      1\u001b[0m \u001b[38;5;66;03m# Extracting latitude and longitude from \"City Location\" and \"Country Location\" into new columns\u001b[39;00m\n\u001b[1;32m----> 2\u001b[0m df_merged[[\u001b[38;5;124m'\u001b[39m\u001b[38;5;124mCity Latitude\u001b[39m\u001b[38;5;124m'\u001b[39m, \u001b[38;5;124m'\u001b[39m\u001b[38;5;124mCity Longitude\u001b[39m\u001b[38;5;124m'\u001b[39m]] \u001b[38;5;241m=\u001b[39m df_merged[\u001b[38;5;124m'\u001b[39m\u001b[38;5;124mCity Location\u001b[39m\u001b[38;5;124m'\u001b[39m]\u001b[38;5;241m.\u001b[39mstr\u001b[38;5;241m.\u001b[39mextract(\u001b[38;5;124mr\u001b[39m\u001b[38;5;124m'\u001b[39m\u001b[38;5;124m\\\u001b[39m\u001b[38;5;124m(([^,]+), ([^)]+)\u001b[39m\u001b[38;5;124m\\\u001b[39m\u001b[38;5;124m)\u001b[39m\u001b[38;5;124m'\u001b[39m)\n\u001b[0;32m      3\u001b[0m df_merged[[\u001b[38;5;124m'\u001b[39m\u001b[38;5;124mCountry Latitude\u001b[39m\u001b[38;5;124m'\u001b[39m, \u001b[38;5;124m'\u001b[39m\u001b[38;5;124mCountry Longitude\u001b[39m\u001b[38;5;124m'\u001b[39m]] \u001b[38;5;241m=\u001b[39m df_merged[\u001b[38;5;124m'\u001b[39m\u001b[38;5;124mCountry Location\u001b[39m\u001b[38;5;124m'\u001b[39m]\u001b[38;5;241m.\u001b[39mstr\u001b[38;5;241m.\u001b[39mextract(\u001b[38;5;124mr\u001b[39m\u001b[38;5;124m'\u001b[39m\u001b[38;5;124m\\\u001b[39m\u001b[38;5;124m(([^,]+), ([^)]+)\u001b[39m\u001b[38;5;124m\\\u001b[39m\u001b[38;5;124m)\u001b[39m\u001b[38;5;124m'\u001b[39m)\n\u001b[0;32m      5\u001b[0m \u001b[38;5;66;03m# Displaying the first few rows to ensure the transformation was successful\u001b[39;00m\n",
      "File \u001b[1;32mc:\\Users\\chz\\anaconda3\\Lib\\site-packages\\pandas\\core\\frame.py:3761\u001b[0m, in \u001b[0;36mDataFrame.__getitem__\u001b[1;34m(self, key)\u001b[0m\n\u001b[0;32m   3759\u001b[0m \u001b[38;5;28;01mif\u001b[39;00m \u001b[38;5;28mself\u001b[39m\u001b[38;5;241m.\u001b[39mcolumns\u001b[38;5;241m.\u001b[39mnlevels \u001b[38;5;241m>\u001b[39m \u001b[38;5;241m1\u001b[39m:\n\u001b[0;32m   3760\u001b[0m     \u001b[38;5;28;01mreturn\u001b[39;00m \u001b[38;5;28mself\u001b[39m\u001b[38;5;241m.\u001b[39m_getitem_multilevel(key)\n\u001b[1;32m-> 3761\u001b[0m indexer \u001b[38;5;241m=\u001b[39m \u001b[38;5;28mself\u001b[39m\u001b[38;5;241m.\u001b[39mcolumns\u001b[38;5;241m.\u001b[39mget_loc(key)\n\u001b[0;32m   3762\u001b[0m \u001b[38;5;28;01mif\u001b[39;00m is_integer(indexer):\n\u001b[0;32m   3763\u001b[0m     indexer \u001b[38;5;241m=\u001b[39m [indexer]\n",
      "File \u001b[1;32mc:\\Users\\chz\\anaconda3\\Lib\\site-packages\\pandas\\core\\indexes\\base.py:3655\u001b[0m, in \u001b[0;36mIndex.get_loc\u001b[1;34m(self, key)\u001b[0m\n\u001b[0;32m   3653\u001b[0m     \u001b[38;5;28;01mreturn\u001b[39;00m \u001b[38;5;28mself\u001b[39m\u001b[38;5;241m.\u001b[39m_engine\u001b[38;5;241m.\u001b[39mget_loc(casted_key)\n\u001b[0;32m   3654\u001b[0m \u001b[38;5;28;01mexcept\u001b[39;00m \u001b[38;5;167;01mKeyError\u001b[39;00m \u001b[38;5;28;01mas\u001b[39;00m err:\n\u001b[1;32m-> 3655\u001b[0m     \u001b[38;5;28;01mraise\u001b[39;00m \u001b[38;5;167;01mKeyError\u001b[39;00m(key) \u001b[38;5;28;01mfrom\u001b[39;00m \u001b[38;5;21;01merr\u001b[39;00m\n\u001b[0;32m   3656\u001b[0m \u001b[38;5;28;01mexcept\u001b[39;00m \u001b[38;5;167;01mTypeError\u001b[39;00m:\n\u001b[0;32m   3657\u001b[0m     \u001b[38;5;66;03m# If we have a listlike key, _check_indexing_error will raise\u001b[39;00m\n\u001b[0;32m   3658\u001b[0m     \u001b[38;5;66;03m#  InvalidIndexError. Otherwise we fall through and re-raise\u001b[39;00m\n\u001b[0;32m   3659\u001b[0m     \u001b[38;5;66;03m#  the TypeError.\u001b[39;00m\n\u001b[0;32m   3660\u001b[0m     \u001b[38;5;28mself\u001b[39m\u001b[38;5;241m.\u001b[39m_check_indexing_error(key)\n",
      "\u001b[1;31mKeyError\u001b[0m: 'City Location'"
     ]
    }
   ],
   "source": [
    "# Extracting latitude and longitude from \"City Location\" and \"Country Location\" into new columns\n",
    "df_merged[['City Latitude', 'City Longitude']] = df_merged['City Location'].str.extract(r'\\(([^,]+), ([^)]+)\\)')\n",
    "df_merged[['Country Latitude', 'Country Longitude']] = df_merged['Country Location'].str.extract(r'\\(([^,]+), ([^)]+)\\)')\n",
    "\n",
    "# Displaying the first few rows to ensure the transformation was successful\n",
    "\n",
    "df.head()"
   ]
  },
  {
   "cell_type": "code",
   "execution_count": 8,
   "metadata": {},
   "outputs": [],
   "source": [
    "# Convert the latitude and longitude columns from strings to floats\n",
    "df_merged['City Latitude'] = pd.to_numeric(df_merged['City Latitude'], errors='coerce')\n",
    "df_merged['City Longitude'] = pd.to_numeric(df_merged['City Longitude'], errors='coerce')\n",
    "df_merged['Country Latitude'] = pd.to_numeric(df_merged['Country Latitude'], errors='coerce')\n",
    "df_merged['Country Longitude'] = pd.to_numeric(df_merged['Country Longitude'], errors='coerce')"
   ]
  },
  {
   "cell_type": "code",
   "execution_count": 9,
   "metadata": {},
   "outputs": [],
   "source": [
    "df_merged.drop(columns=['City Location'], inplace=True)\n",
    "df_merged.drop(columns=['Country Location'], inplace=True)"
   ]
  },
  {
   "cell_type": "code",
   "execution_count": 10,
   "metadata": {},
   "outputs": [],
   "source": [
    "# Convert 'C40' from strings \"True\"/\"False\" to actual booleans\n",
    "df_merged['C40'] = df_merged['C40'].map({'True': True, 'False': False})\n",
    "\n",
    "# Create two new columns: 'C40_True' and 'C40_False'\n",
    "df_merged['C40_True'] = df_merged['C40'].astype(int)  # This will convert True to 1 and False to 0\n",
    "df_merged['C40_False'] = (~df_merged['C40']).astype(int)  # This inverts the boolean and then converts to 0/1\n",
    "\n"
   ]
  },
  {
   "cell_type": "code",
   "execution_count": 11,
   "metadata": {},
   "outputs": [],
   "source": [
    "df_merged.drop(columns=['C40'], inplace=True)"
   ]
  },
  {
   "cell_type": "code",
   "execution_count": 12,
   "metadata": {},
   "outputs": [],
   "source": [
    "df = df_merged"
   ]
  },
  {
   "cell_type": "code",
   "execution_count": 13,
   "metadata": {},
   "outputs": [
    {
     "name": "stderr",
     "output_type": "stream",
     "text": [
      "c:\\Users\\chz\\anaconda3\\Lib\\site-packages\\pycountry\\db.py:51: UserWarning: Country's official_name not found. Country name provided instead.\n",
      "  warnings.warn(warning_message, UserWarning)\n",
      "c:\\Users\\chz\\anaconda3\\Lib\\site-packages\\pycountry\\db.py:51: UserWarning: Country's common_name not found. Country name provided instead.\n",
      "  warnings.warn(warning_message, UserWarning)\n"
     ]
    }
   ],
   "source": [
    "import pycountry_convert as pc\n",
    "\n",
    "#applying continent to the dataset for future use of folium mapping\n",
    "def country_to_continent(country_name):\n",
    "    try:\n",
    "        country_alpha2 = pc.country_name_to_country_alpha2(country_name)\n",
    "        country_continent_code = pc.country_alpha2_to_continent_code(country_alpha2)\n",
    "        country_continent_name = pc.convert_continent_code_to_continent_name(country_continent_code)\n",
    "        return country_continent_name\n",
    "    except:\n",
    "        return None  # For countries that don't match\n",
    "\n",
    "# Apply the conversion function to your DataFrame\n",
    "df['Continent'] = df['Country'].apply(country_to_continent)\n",
    "# Filter for other continents\n",
    "north_american_countries_df = df[df['Continent'] == 'North America']\n",
    "south_american_countries_df = df[df['Continent'] == 'South America']\n",
    "asian_countries_df = df[df['Continent'] == 'Asia']\n",
    "african_countries_df = df[df['Continent'] == 'Africa']\n",
    "oceania_countries_df = df[df['Continent'] == 'Oceania']\n",
    "Europe_df = df[df['Continent'] == 'Europe']\n",
    "\n",
    "\n"
   ]
  },
  {
   "cell_type": "code",
   "execution_count": 14,
   "metadata": {},
   "outputs": [],
   "source": [
    "df = df.drop_duplicates(subset=['City'])\n"
   ]
  },
  {
   "cell_type": "code",
   "execution_count": 15,
   "metadata": {},
   "outputs": [
    {
     "data": {
      "text/plain": [
       "Country                                     13412\n",
       "City                                        13412\n",
       "AQI Value                                   13412\n",
       "AQI Category                                13412\n",
       "CO AQI Value                                13412\n",
       "CO AQI Category                             13412\n",
       "Ozone AQI Value                             13412\n",
       "Ozone AQI Category                          13412\n",
       "NO2 AQI Value                               13412\n",
       "NO2 AQI Category                            13412\n",
       "PM2.5 AQI Value                             13412\n",
       "PM2.5 AQI Category                          13412\n",
       "Region                                      13412\n",
       "Reporting year                              13412\n",
       "Total emissions (metric tonnes CO2e)        13412\n",
       "Population                                  13412\n",
       "GDP                                         13412\n",
       "GDP Year                                    13412\n",
       "Average annual temperature (in Celsius)​    13412\n",
       "​Average altitude (m)                       13412\n",
       "​Land area (in square km)                   13412\n",
       "City Latitude                               13412\n",
       "City Longitude                              13412\n",
       "Country Latitude                            13412\n",
       "Country Longitude                           13412\n",
       "C40_True                                    13412\n",
       "C40_False                                   13412\n",
       "Continent                                   13411\n",
       "dtype: int64"
      ]
     },
     "execution_count": 15,
     "metadata": {},
     "output_type": "execute_result"
    }
   ],
   "source": [
    "df.count()"
   ]
  },
  {
   "cell_type": "code",
   "execution_count": 17,
   "metadata": {},
   "outputs": [
    {
     "data": {
      "text/plain": [
       "Country                                     0\n",
       "City                                        0\n",
       "AQI Value                                   0\n",
       "AQI Category                                0\n",
       "CO AQI Value                                0\n",
       "CO AQI Category                             0\n",
       "Ozone AQI Value                             0\n",
       "Ozone AQI Category                          0\n",
       "NO2 AQI Value                               0\n",
       "NO2 AQI Category                            0\n",
       "PM2.5 AQI Value                             0\n",
       "PM2.5 AQI Category                          0\n",
       "Region                                      0\n",
       "Reporting year                              0\n",
       "Total emissions (metric tonnes CO2e)        0\n",
       "Population                                  0\n",
       "GDP                                         0\n",
       "GDP Year                                    0\n",
       "Average annual temperature (in Celsius)​    0\n",
       "​Average altitude (m)                       0\n",
       "​Land area (in square km)                   0\n",
       "City Latitude                               0\n",
       "City Longitude                              0\n",
       "Country Latitude                            0\n",
       "Country Longitude                           0\n",
       "C40_True                                    0\n",
       "C40_False                                   0\n",
       "Continent                                   1\n",
       "dtype: int64"
      ]
     },
     "execution_count": 17,
     "metadata": {},
     "output_type": "execute_result"
    }
   ],
   "source": [
    "df.isnull().sum()"
   ]
  },
  {
   "cell_type": "code",
   "execution_count": 32,
   "metadata": {},
   "outputs": [],
   "source": [
    "df.loc[:, df.isna().any()]\n",
    "df.loc[288719]\n",
    "df.fillna(value=\"Europe\", inplace=True)"
   ]
  },
  {
   "cell_type": "code",
   "execution_count": 35,
   "metadata": {},
   "outputs": [
    {
     "data": {
      "text/plain": [
       "Country                                     0\n",
       "City                                        0\n",
       "AQI Value                                   0\n",
       "AQI Category                                0\n",
       "CO AQI Value                                0\n",
       "CO AQI Category                             0\n",
       "Ozone AQI Value                             0\n",
       "Ozone AQI Category                          0\n",
       "NO2 AQI Value                               0\n",
       "NO2 AQI Category                            0\n",
       "PM2.5 AQI Value                             0\n",
       "PM2.5 AQI Category                          0\n",
       "Region                                      0\n",
       "Reporting year                              0\n",
       "Total emissions (metric tonnes CO2e)        0\n",
       "Population                                  0\n",
       "GDP                                         0\n",
       "GDP Year                                    0\n",
       "Average annual temperature (in Celsius)​    0\n",
       "​Average altitude (m)                       0\n",
       "​Land area (in square km)                   0\n",
       "City Latitude                               0\n",
       "City Longitude                              0\n",
       "Country Latitude                            0\n",
       "Country Longitude                           0\n",
       "C40_True                                    0\n",
       "C40_False                                   0\n",
       "Continent                                   0\n",
       "dtype: int64"
      ]
     },
     "execution_count": 35,
     "metadata": {},
     "output_type": "execute_result"
    }
   ],
   "source": [
    "df.isnull().sum()"
   ]
  },
  {
   "cell_type": "code",
   "execution_count": 34,
   "metadata": {},
   "outputs": [],
   "source": [
    "df.to_pickle(\"dataframe.pkl\") # save df to a pickle file so it can be used for streamlit"
   ]
  },
  {
   "cell_type": "code",
   "execution_count": null,
   "metadata": {},
   "outputs": [],
   "source": []
  }
 ],
 "metadata": {
  "kernelspec": {
   "display_name": "base",
   "language": "python",
   "name": "python3"
  },
  "language_info": {
   "codemirror_mode": {
    "name": "ipython",
    "version": 3
   },
   "file_extension": ".py",
   "mimetype": "text/x-python",
   "name": "python",
   "nbconvert_exporter": "python",
   "pygments_lexer": "ipython3",
   "version": "3.11.5"
  }
 },
 "nbformat": 4,
 "nbformat_minor": 2
}
