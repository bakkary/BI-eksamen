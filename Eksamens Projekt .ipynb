{
 "cells": [
  {
   "cell_type": "code",
   "execution_count": null,
   "id": "97efdf83",
   "metadata": {},
   "outputs": [],
   "source": [
    "! pip install plotly\n",
    "! pip install folium\n",
    "! pip install fuzzywuzzy\n",
    "! pip install python-Levenshtein\n"
   ]
  },
  {
   "cell_type": "code",
   "execution_count": 1,
   "id": "8657e51f",
   "metadata": {},
   "outputs": [],
   "source": [
    "# import pandas for structuring the data\n",
    "import pandas as pd\n",
    "\n",
    "# import numpy for numerical analysis\n",
    "import numpy as np\n",
    "\n",
    "# import libs for diagrams inline with the text\n",
    "import matplotlib.pyplot as plt\n",
    "%matplotlib inline\n",
    "import seaborn as sns\n",
    "\n",
    "# other utilities\n",
    "from sklearn import datasets, preprocessing, metrics"
   ]
  },
  {
   "cell_type": "code",
   "execution_count": 2,
   "id": "8d1b95f4",
   "metadata": {},
   "outputs": [],
   "source": [
    "# for visualisation\n",
    "import matplotlib.pyplot as plt\n",
    "import seaborn as sns\n",
    "import plotly.express as px\n",
    "import plotly.graph_objects as go\n",
    "import plotly.figure_factory as ff\n",
    "import plotly.io as pio\n",
    "from sklearn.model_selection import train_test_split\n",
    "from sklearn import linear_model\n",
    "from sklearn.linear_model import LinearRegression\n",
    "import sklearn.metrics as sm\n",
    "\n",
    "# for diagramming \n",
    "import matplotlib.pyplot as plt\n",
    "import seaborn as sns\n",
    "\n",
    "# For serialization and deserialization of data from/to file\n",
    "import pickle"
   ]
  },
  {
   "cell_type": "code",
   "execution_count": 3,
   "id": "a9fa15c3",
   "metadata": {},
   "outputs": [],
   "source": [
    "import folium"
   ]
  },
  {
   "cell_type": "code",
   "execution_count": 4,
   "id": "aa693206",
   "metadata": {},
   "outputs": [],
   "source": [
    "# read the json file from your data folder into a data frame\n",
    "#df = pd.read_csv(r'C:\\Users\\chz\\Documents\\BI Exercise\\\\BI Exam\\global air pollution dataset.csv')\n",
    "df = pd.read_csv(r'DataSæt\\global air pollution dataset.csv')\n",
    "df2 = pd.read_csv(r\"Datasæt\\2017_-_Cities_Community_Wide_Emissions.csv\")\n",
    "df3 = pd.read_csv(r\"C:Datasæt\\2023_Cities_Climate_Risk_and_Vulnerability_Assessments_20240207.csv\")"
   ]
  },
  {
   "cell_type": "code",
   "execution_count": 5,
   "id": "d0b1737b",
   "metadata": {},
   "outputs": [],
   "source": [
    "# Standardizing the 'Country' column in both DataFrames\n",
    "df['Country'] = df['Country'].str.title().str.strip()\n",
    "df2['Country'] = df2['Country'].str.title().str.strip()\n",
    "\n",
    "# Merging df and df2 based on 'Country' after standardization\n",
    "df_merged = pd.merge(df, df2, on='Country', how='outer')\n",
    "\n",
    "# Sampling 50 rows from the merged DataFrame to verify the operation\n",
    "# Note: Since the actual DataFrames are empty in this simulation, this step is for demonstration purposes.\n",
    "sampled_df_merged = df_merged.sample(50)\n"
   ]
  },
  {
   "cell_type": "code",
   "execution_count": 6,
   "id": "f54e8b3c",
   "metadata": {},
   "outputs": [
    {
     "data": {
      "text/plain": [
       "Country                                         65872\n",
       "City_x                                          66200\n",
       "AQI Value                                       66201\n",
       "AQI Category                                    66201\n",
       "CO AQI Value                                    66201\n",
       "CO AQI Category                                 66201\n",
       "Ozone AQI Value                                 66201\n",
       "Ozone AQI Category                              66201\n",
       "NO2 AQI Value                                   66201\n",
       "NO2 AQI Category                                66201\n",
       "PM2.5 AQI Value                                 66201\n",
       "PM2.5 AQI Category                              66201\n",
       "Account number                                  53096\n",
       "Organization                                    53096\n",
       "City_y                                          53096\n",
       "Region                                          53096\n",
       "C40                                             14673\n",
       "Access                                          53096\n",
       "Reporting year                                  53096\n",
       "Accounting year                                 53096\n",
       "Boundary                                        53096\n",
       "Protocol                                        53096\n",
       "Protocol column                                 42604\n",
       "Gases included                                  24158\n",
       "Total emissions (metric tonnes CO2e)            49759\n",
       "Scopes Included                                 53096\n",
       "Total Scope 1 Emissions (metric tonnes CO2e)    33667\n",
       "Total Scope 2 Emissions (metric tonnes CO2e)    35932\n",
       "Comment                                         13267\n",
       "Increase/Decrease from last year                44060\n",
       "Reason for increase/decrease in emissions       40220\n",
       "Population                                      53096\n",
       "Population year                                 53096\n",
       "GDP                                             45805\n",
       "GDP Currency                                    41764\n",
       "GDP Year                                        46970\n",
       "GDP Source                                      44814\n",
       "Average annual temperature (in Celsius)​        50573\n",
       "​Average altitude (m)                           49791\n",
       "​Land area (in square km)                       51534\n",
       "City Location                                   53096\n",
       "Country Location                                53096\n",
       "dtype: int64"
      ]
     },
     "execution_count": 6,
     "metadata": {},
     "output_type": "execute_result"
    }
   ],
   "source": [
    "df_merged.count()"
   ]
  },
  {
   "cell_type": "code",
   "execution_count": 7,
   "id": "91a3c337",
   "metadata": {},
   "outputs": [
    {
     "data": {
      "text/plain": [
       "Country                                           427\n",
       "City_x                                             99\n",
       "AQI Value                                          98\n",
       "AQI Category                                       98\n",
       "CO AQI Value                                       98\n",
       "CO AQI Category                                    98\n",
       "Ozone AQI Value                                    98\n",
       "Ozone AQI Category                                 98\n",
       "NO2 AQI Value                                      98\n",
       "NO2 AQI Category                                   98\n",
       "PM2.5 AQI Value                                    98\n",
       "PM2.5 AQI Category                                 98\n",
       "Account number                                  13203\n",
       "Organization                                    13203\n",
       "City_y                                          13203\n",
       "Region                                          13203\n",
       "C40                                             51626\n",
       "Access                                          13203\n",
       "Reporting year                                  13203\n",
       "Accounting year                                 13203\n",
       "Boundary                                        13203\n",
       "Protocol                                        13203\n",
       "Protocol column                                 23695\n",
       "Gases included                                  42141\n",
       "Total emissions (metric tonnes CO2e)            16540\n",
       "Scopes Included                                 13203\n",
       "Total Scope 1 Emissions (metric tonnes CO2e)    32632\n",
       "Total Scope 2 Emissions (metric tonnes CO2e)    30367\n",
       "Comment                                         53032\n",
       "Increase/Decrease from last year                22239\n",
       "Reason for increase/decrease in emissions       26079\n",
       "Population                                      13203\n",
       "Population year                                 13203\n",
       "GDP                                             20494\n",
       "GDP Currency                                    24535\n",
       "GDP Year                                        19329\n",
       "GDP Source                                      21485\n",
       "Average annual temperature (in Celsius)​        15726\n",
       "​Average altitude (m)                           16508\n",
       "​Land area (in square km)                       14765\n",
       "City Location                                   13203\n",
       "Country Location                                13203\n",
       "dtype: int64"
      ]
     },
     "execution_count": 7,
     "metadata": {},
     "output_type": "execute_result"
    }
   ],
   "source": [
    "df_merged.isnull().sum()"
   ]
  },
  {
   "cell_type": "code",
   "execution_count": 9,
   "id": "c0c8ed2e",
   "metadata": {},
   "outputs": [
    {
     "ename": "KeyError",
     "evalue": "\"['Gases included'] not found in axis\"",
     "output_type": "error",
     "traceback": [
      "\u001b[1;31m---------------------------------------------------------------------------\u001b[0m",
      "\u001b[1;31mKeyError\u001b[0m                                  Traceback (most recent call last)",
      "Cell \u001b[1;32mIn[9], line 1\u001b[0m\n\u001b[1;32m----> 1\u001b[0m df_merged\u001b[38;5;241m.\u001b[39mdrop(columns\u001b[38;5;241m=\u001b[39m[\u001b[38;5;124m'\u001b[39m\u001b[38;5;124mGases included\u001b[39m\u001b[38;5;124m'\u001b[39m], inplace\u001b[38;5;241m=\u001b[39m\u001b[38;5;28;01mTrue\u001b[39;00m)\n\u001b[0;32m      2\u001b[0m df_merged\u001b[38;5;241m.\u001b[39mdrop(columns\u001b[38;5;241m=\u001b[39m[\u001b[38;5;124m'\u001b[39m\u001b[38;5;124mComment\u001b[39m\u001b[38;5;124m'\u001b[39m], inplace\u001b[38;5;241m=\u001b[39m\u001b[38;5;28;01mTrue\u001b[39;00m)\n\u001b[0;32m      3\u001b[0m df_merged\u001b[38;5;241m.\u001b[39mdrop(columns\u001b[38;5;241m=\u001b[39m[\u001b[38;5;124m'\u001b[39m\u001b[38;5;124mC40\u001b[39m\u001b[38;5;124m'\u001b[39m], inplace\u001b[38;5;241m=\u001b[39m\u001b[38;5;28;01mTrue\u001b[39;00m)\n",
      "File \u001b[1;32mc:\\Users\\chz\\anaconda3\\Lib\\site-packages\\pandas\\core\\frame.py:5258\u001b[0m, in \u001b[0;36mDataFrame.drop\u001b[1;34m(self, labels, axis, index, columns, level, inplace, errors)\u001b[0m\n\u001b[0;32m   5110\u001b[0m \u001b[38;5;28;01mdef\u001b[39;00m \u001b[38;5;21mdrop\u001b[39m(\n\u001b[0;32m   5111\u001b[0m     \u001b[38;5;28mself\u001b[39m,\n\u001b[0;32m   5112\u001b[0m     labels: IndexLabel \u001b[38;5;241m=\u001b[39m \u001b[38;5;28;01mNone\u001b[39;00m,\n\u001b[1;32m   (...)\u001b[0m\n\u001b[0;32m   5119\u001b[0m     errors: IgnoreRaise \u001b[38;5;241m=\u001b[39m \u001b[38;5;124m\"\u001b[39m\u001b[38;5;124mraise\u001b[39m\u001b[38;5;124m\"\u001b[39m,\n\u001b[0;32m   5120\u001b[0m ) \u001b[38;5;241m-\u001b[39m\u001b[38;5;241m>\u001b[39m DataFrame \u001b[38;5;241m|\u001b[39m \u001b[38;5;28;01mNone\u001b[39;00m:\n\u001b[0;32m   5121\u001b[0m \u001b[38;5;250m    \u001b[39m\u001b[38;5;124;03m\"\"\"\u001b[39;00m\n\u001b[0;32m   5122\u001b[0m \u001b[38;5;124;03m    Drop specified labels from rows or columns.\u001b[39;00m\n\u001b[0;32m   5123\u001b[0m \n\u001b[1;32m   (...)\u001b[0m\n\u001b[0;32m   5256\u001b[0m \u001b[38;5;124;03m            weight  1.0     0.8\u001b[39;00m\n\u001b[0;32m   5257\u001b[0m \u001b[38;5;124;03m    \"\"\"\u001b[39;00m\n\u001b[1;32m-> 5258\u001b[0m     \u001b[38;5;28;01mreturn\u001b[39;00m \u001b[38;5;28msuper\u001b[39m()\u001b[38;5;241m.\u001b[39mdrop(\n\u001b[0;32m   5259\u001b[0m         labels\u001b[38;5;241m=\u001b[39mlabels,\n\u001b[0;32m   5260\u001b[0m         axis\u001b[38;5;241m=\u001b[39maxis,\n\u001b[0;32m   5261\u001b[0m         index\u001b[38;5;241m=\u001b[39mindex,\n\u001b[0;32m   5262\u001b[0m         columns\u001b[38;5;241m=\u001b[39mcolumns,\n\u001b[0;32m   5263\u001b[0m         level\u001b[38;5;241m=\u001b[39mlevel,\n\u001b[0;32m   5264\u001b[0m         inplace\u001b[38;5;241m=\u001b[39minplace,\n\u001b[0;32m   5265\u001b[0m         errors\u001b[38;5;241m=\u001b[39merrors,\n\u001b[0;32m   5266\u001b[0m     )\n",
      "File \u001b[1;32mc:\\Users\\chz\\anaconda3\\Lib\\site-packages\\pandas\\core\\generic.py:4549\u001b[0m, in \u001b[0;36mNDFrame.drop\u001b[1;34m(self, labels, axis, index, columns, level, inplace, errors)\u001b[0m\n\u001b[0;32m   4547\u001b[0m \u001b[38;5;28;01mfor\u001b[39;00m axis, labels \u001b[38;5;129;01min\u001b[39;00m axes\u001b[38;5;241m.\u001b[39mitems():\n\u001b[0;32m   4548\u001b[0m     \u001b[38;5;28;01mif\u001b[39;00m labels \u001b[38;5;129;01mis\u001b[39;00m \u001b[38;5;129;01mnot\u001b[39;00m \u001b[38;5;28;01mNone\u001b[39;00m:\n\u001b[1;32m-> 4549\u001b[0m         obj \u001b[38;5;241m=\u001b[39m obj\u001b[38;5;241m.\u001b[39m_drop_axis(labels, axis, level\u001b[38;5;241m=\u001b[39mlevel, errors\u001b[38;5;241m=\u001b[39merrors)\n\u001b[0;32m   4551\u001b[0m \u001b[38;5;28;01mif\u001b[39;00m inplace:\n\u001b[0;32m   4552\u001b[0m     \u001b[38;5;28mself\u001b[39m\u001b[38;5;241m.\u001b[39m_update_inplace(obj)\n",
      "File \u001b[1;32mc:\\Users\\chz\\anaconda3\\Lib\\site-packages\\pandas\\core\\generic.py:4591\u001b[0m, in \u001b[0;36mNDFrame._drop_axis\u001b[1;34m(self, labels, axis, level, errors, only_slice)\u001b[0m\n\u001b[0;32m   4589\u001b[0m         new_axis \u001b[38;5;241m=\u001b[39m axis\u001b[38;5;241m.\u001b[39mdrop(labels, level\u001b[38;5;241m=\u001b[39mlevel, errors\u001b[38;5;241m=\u001b[39merrors)\n\u001b[0;32m   4590\u001b[0m     \u001b[38;5;28;01melse\u001b[39;00m:\n\u001b[1;32m-> 4591\u001b[0m         new_axis \u001b[38;5;241m=\u001b[39m axis\u001b[38;5;241m.\u001b[39mdrop(labels, errors\u001b[38;5;241m=\u001b[39merrors)\n\u001b[0;32m   4592\u001b[0m     indexer \u001b[38;5;241m=\u001b[39m axis\u001b[38;5;241m.\u001b[39mget_indexer(new_axis)\n\u001b[0;32m   4594\u001b[0m \u001b[38;5;66;03m# Case for non-unique axis\u001b[39;00m\n\u001b[0;32m   4595\u001b[0m \u001b[38;5;28;01melse\u001b[39;00m:\n",
      "File \u001b[1;32mc:\\Users\\chz\\anaconda3\\Lib\\site-packages\\pandas\\core\\indexes\\base.py:6699\u001b[0m, in \u001b[0;36mIndex.drop\u001b[1;34m(self, labels, errors)\u001b[0m\n\u001b[0;32m   6697\u001b[0m \u001b[38;5;28;01mif\u001b[39;00m mask\u001b[38;5;241m.\u001b[39many():\n\u001b[0;32m   6698\u001b[0m     \u001b[38;5;28;01mif\u001b[39;00m errors \u001b[38;5;241m!=\u001b[39m \u001b[38;5;124m\"\u001b[39m\u001b[38;5;124mignore\u001b[39m\u001b[38;5;124m\"\u001b[39m:\n\u001b[1;32m-> 6699\u001b[0m         \u001b[38;5;28;01mraise\u001b[39;00m \u001b[38;5;167;01mKeyError\u001b[39;00m(\u001b[38;5;124mf\u001b[39m\u001b[38;5;124m\"\u001b[39m\u001b[38;5;132;01m{\u001b[39;00m\u001b[38;5;28mlist\u001b[39m(labels[mask])\u001b[38;5;132;01m}\u001b[39;00m\u001b[38;5;124m not found in axis\u001b[39m\u001b[38;5;124m\"\u001b[39m)\n\u001b[0;32m   6700\u001b[0m     indexer \u001b[38;5;241m=\u001b[39m indexer[\u001b[38;5;241m~\u001b[39mmask]\n\u001b[0;32m   6701\u001b[0m \u001b[38;5;28;01mreturn\u001b[39;00m \u001b[38;5;28mself\u001b[39m\u001b[38;5;241m.\u001b[39mdelete(indexer)\n",
      "\u001b[1;31mKeyError\u001b[0m: \"['Gases included'] not found in axis\""
     ]
    }
   ],
   "source": [
    "df_merged.drop(columns=['Gases included'], inplace=True)\n",
    "df_merged.drop(columns=['Comment'], inplace=True)\n",
    "df_merged.drop(columns=['C40'], inplace=True)\n",
    "df_merged.drop(columns=['Total Scope 1 Emissions (metric tonnes CO2e)'], inplace=True)\n",
    "df_merged.drop(columns=['Total Scope 2 Emissions (metric tonnes CO2e)'], inplace=True)\n",
    "\n",
    "\n"
   ]
  },
  {
   "cell_type": "code",
   "execution_count": 9,
   "id": "20538099",
   "metadata": {},
   "outputs": [
    {
     "data": {
      "text/plain": [
       "Country                                         65872\n",
       "City_x                                          66200\n",
       "AQI Value                                       66201\n",
       "AQI Category                                    66201\n",
       "CO AQI Value                                    66201\n",
       "CO AQI Category                                 66201\n",
       "Ozone AQI Value                                 66201\n",
       "Ozone AQI Category                              66201\n",
       "NO2 AQI Value                                   66201\n",
       "NO2 AQI Category                                66201\n",
       "PM2.5 AQI Value                                 66201\n",
       "PM2.5 AQI Category                              66201\n",
       "Account number                                  53096\n",
       "Organization                                    53096\n",
       "City_y                                          53096\n",
       "Region                                          53096\n",
       "C40                                             14673\n",
       "Access                                          53096\n",
       "Reporting year                                  53096\n",
       "Accounting year                                 53096\n",
       "Boundary                                        53096\n",
       "Protocol                                        53096\n",
       "Protocol column                                 42604\n",
       "Total emissions (metric tonnes CO2e)            49759\n",
       "Scopes Included                                 53096\n",
       "Total Scope 1 Emissions (metric tonnes CO2e)    33667\n",
       "Total Scope 2 Emissions (metric tonnes CO2e)    35932\n",
       "Increase/Decrease from last year                44060\n",
       "Reason for increase/decrease in emissions       40220\n",
       "Population                                      53096\n",
       "Population year                                 53096\n",
       "GDP                                             45805\n",
       "GDP Currency                                    41764\n",
       "GDP Year                                        46970\n",
       "GDP Source                                      44814\n",
       "Average annual temperature (in Celsius)​        50573\n",
       "​Average altitude (m)                           49791\n",
       "​Land area (in square km)                       51534\n",
       "City Location                                   53096\n",
       "Country Location                                53096\n",
       "dtype: int64"
      ]
     },
     "execution_count": 9,
     "metadata": {},
     "output_type": "execute_result"
    }
   ],
   "source": [
    "df_merged.count()"
   ]
  },
  {
   "cell_type": "code",
   "execution_count": 8,
   "id": "6f4054ec",
   "metadata": {},
   "outputs": [],
   "source": [
    "# Delete the null values from the data frame\n",
    "df_merged = df_merged.dropna()"
   ]
  },
  {
   "cell_type": "code",
   "execution_count": 9,
   "id": "32c3ad23",
   "metadata": {},
   "outputs": [
    {
     "data": {
      "text/plain": [
       "Country                                         0\n",
       "City_x                                          0\n",
       "AQI Value                                       0\n",
       "AQI Category                                    0\n",
       "CO AQI Value                                    0\n",
       "CO AQI Category                                 0\n",
       "Ozone AQI Value                                 0\n",
       "Ozone AQI Category                              0\n",
       "NO2 AQI Value                                   0\n",
       "NO2 AQI Category                                0\n",
       "PM2.5 AQI Value                                 0\n",
       "PM2.5 AQI Category                              0\n",
       "Account number                                  0\n",
       "Organization                                    0\n",
       "City_y                                          0\n",
       "Region                                          0\n",
       "Access                                          0\n",
       "Reporting year                                  0\n",
       "Accounting year                                 0\n",
       "Boundary                                        0\n",
       "Protocol                                        0\n",
       "Protocol column                                 0\n",
       "Total emissions (metric tonnes CO2e)            0\n",
       "Scopes Included                                 0\n",
       "Total Scope 1 Emissions (metric tonnes CO2e)    0\n",
       "Total Scope 2 Emissions (metric tonnes CO2e)    0\n",
       "Increase/Decrease from last year                0\n",
       "Reason for increase/decrease in emissions       0\n",
       "Population                                      0\n",
       "Population year                                 0\n",
       "GDP                                             0\n",
       "GDP Currency                                    0\n",
       "GDP Year                                        0\n",
       "GDP Source                                      0\n",
       "Average annual temperature (in Celsius)​        0\n",
       "​Average altitude (m)                           0\n",
       "​Land area (in square km)                       0\n",
       "City Location                                   0\n",
       "Country Location                                0\n",
       "dtype: int64"
      ]
     },
     "execution_count": 9,
     "metadata": {},
     "output_type": "execute_result"
    }
   ],
   "source": [
    "# Check the data frame for null values\n",
    "df_merged.isnull().sum()"
   ]
  },
  {
   "cell_type": "code",
   "execution_count": 10,
   "id": "0f2328ca",
   "metadata": {},
   "outputs": [
    {
     "data": {
      "text/plain": [
       "Country                                         19161\n",
       "City_x                                          19161\n",
       "AQI Value                                       19161\n",
       "AQI Category                                    19161\n",
       "CO AQI Value                                    19161\n",
       "CO AQI Category                                 19161\n",
       "Ozone AQI Value                                 19161\n",
       "Ozone AQI Category                              19161\n",
       "NO2 AQI Value                                   19161\n",
       "NO2 AQI Category                                19161\n",
       "PM2.5 AQI Value                                 19161\n",
       "PM2.5 AQI Category                              19161\n",
       "Account number                                  19161\n",
       "Organization                                    19161\n",
       "City_y                                          19161\n",
       "Region                                          19161\n",
       "Access                                          19161\n",
       "Reporting year                                  19161\n",
       "Accounting year                                 19161\n",
       "Boundary                                        19161\n",
       "Protocol                                        19161\n",
       "Protocol column                                 19161\n",
       "Total emissions (metric tonnes CO2e)            19161\n",
       "Scopes Included                                 19161\n",
       "Total Scope 1 Emissions (metric tonnes CO2e)    19161\n",
       "Total Scope 2 Emissions (metric tonnes CO2e)    19161\n",
       "Increase/Decrease from last year                19161\n",
       "Reason for increase/decrease in emissions       19161\n",
       "Population                                      19161\n",
       "Population year                                 19161\n",
       "GDP                                             19161\n",
       "GDP Currency                                    19161\n",
       "GDP Year                                        19161\n",
       "GDP Source                                      19161\n",
       "Average annual temperature (in Celsius)​        19161\n",
       "​Average altitude (m)                           19161\n",
       "​Land area (in square km)                       19161\n",
       "City Location                                   19161\n",
       "Country Location                                19161\n",
       "dtype: int64"
      ]
     },
     "execution_count": 10,
     "metadata": {},
     "output_type": "execute_result"
    }
   ],
   "source": [
    "df_merged.count()"
   ]
  },
  {
   "cell_type": "code",
   "execution_count": 12,
   "id": "4d390475",
   "metadata": {},
   "outputs": [
    {
     "data": {
      "text/plain": [
       "Country               23036\n",
       "City                  23462\n",
       "AQI Value             23463\n",
       "AQI Category          23463\n",
       "CO AQI Value          23463\n",
       "CO AQI Category       23463\n",
       "Ozone AQI Value       23463\n",
       "Ozone AQI Category    23463\n",
       "NO2 AQI Value         23463\n",
       "NO2 AQI Category      23463\n",
       "PM2.5 AQI Value       23463\n",
       "PM2.5 AQI Category    23463\n",
       "dtype: int64"
      ]
     },
     "execution_count": 12,
     "metadata": {},
     "output_type": "execute_result"
    }
   ],
   "source": [
    "df.count()"
   ]
  },
  {
   "cell_type": "code",
   "execution_count": null,
   "id": "6af5469d",
   "metadata": {},
   "outputs": [],
   "source": [
    "df.sample(20)"
   ]
  },
  {
   "cell_type": "code",
   "execution_count": null,
   "id": "88e17838",
   "metadata": {},
   "outputs": [],
   "source": [
    "# graph for detecting outliers in the 'AQI Value' column\n",
    "sns.boxplot(x=df['AQI Value'])\n",
    "plt.show()\n",
    "\n",
    "# Assuming you decide to remove outliers beyond the 1.5 * IQR range\n",
    "Q1 = df['AQI Value'].quantile(0.25)\n",
    "Q3 = df['AQI Value'].quantile(0.75)\n",
    "IQR = Q3 - Q1\n",
    "\n",
    "df_filtered = df[~((df['AQI Value'] < (Q1 - 1.5 * IQR)) | (df['AQI Value'] > (Q3 + 1.5 * IQR)))]\n"
   ]
  },
  {
   "cell_type": "code",
   "execution_count": null,
   "id": "a4c94657",
   "metadata": {},
   "outputs": [],
   "source": [
    "denmark_df = df[df['Country'] == 'Denmark']"
   ]
  },
  {
   "cell_type": "code",
   "execution_count": null,
   "id": "755a5851",
   "metadata": {},
   "outputs": [],
   "source": [
    "denmark_df"
   ]
  },
  {
   "cell_type": "code",
   "execution_count": null,
   "id": "7503db80",
   "metadata": {},
   "outputs": [],
   "source": [
    "df.info()"
   ]
  },
  {
   "cell_type": "code",
   "execution_count": null,
   "id": "1267688c",
   "metadata": {},
   "outputs": [],
   "source": [
    "df.describe()"
   ]
  },
  {
   "cell_type": "code",
   "execution_count": null,
   "id": "c781c161",
   "metadata": {},
   "outputs": [],
   "source": [
    "# We have to convert the data from float to int in order to use pandas to calculate the correlations\n",
    "numeric_df = df.select_dtypes(include=['float64', 'int64'])\n",
    "\n",
    "\n",
    "df_cleaned = numeric_df.dropna()\n",
    "# Calculate the correlation matrix\n",
    "corr_matrix = df_cleaned.corr()\n",
    "\n",
    "# Plot the correlation matrix\n",
    "plt.figure(figsize=(10, 8))\n",
    "sns.heatmap(corr_matrix, annot=True, cmap='coolwarm', fmt=\".2f\")\n",
    "plt.title('Correlation Matrix')\n",
    "plt.show()"
   ]
  },
  {
   "cell_type": "code",
   "execution_count": null,
   "id": "e9bcd297",
   "metadata": {},
   "outputs": [],
   "source": [
    "# Visualizing relationships between all numerical features\n",
    "sns.pairplot(df_filtered.select_dtypes(include=['float64', 'int64']))\n",
    "plt.show()\n"
   ]
  },
  {
   "cell_type": "code",
   "execution_count": null,
   "id": "bd0d6b68",
   "metadata": {},
   "outputs": [],
   "source": [
    "plt.figure(figsize= (10, 6))\n",
    "\n",
    "# Plot histograms for all columns in the DataFrame\n",
    "df.hist()\n",
    "\n",
    "# Adjust layout to prevent overlap\n",
    "plt.tight_layout()\n",
    "\n",
    "# Show the plot\n",
    "plt.show()"
   ]
  },
  {
   "cell_type": "code",
   "execution_count": null,
   "id": "30ec68ca",
   "metadata": {},
   "outputs": [],
   "source": [
    "plt.xlabel('AQI Value')\n",
    "plt.ylabel('PM2.5 AQI Value')\n",
    "plt.scatter(df['AQI Value'], df['PM2.5 AQI Value'], color='green')\n",
    "plt.show()"
   ]
  },
  {
   "cell_type": "code",
   "execution_count": null,
   "id": "e8399c54",
   "metadata": {},
   "outputs": [],
   "source": [
    "sns.distplot(df['AQI Value'],  label='AQI Value', norm_hist=True)  "
   ]
  },
  {
   "cell_type": "code",
   "execution_count": null,
   "id": "deb8b90e",
   "metadata": {},
   "outputs": [],
   "source": [
    "sns.distplot(df['PM2.5 AQI Value'],  label='PM2.5 AQI Value', norm_hist=True) "
   ]
  },
  {
   "cell_type": "code",
   "execution_count": null,
   "id": "a87c1f08",
   "metadata": {},
   "outputs": [],
   "source": [
    "# Grouping the data by 'Country' and calculating the mean 'AQI Value' for each country\n",
    "country_aqi_means = df.groupby('Country')['AQI Value'].mean()\n",
    "\n",
    "# Sorting the countries by AQI value for better visualization\n",
    "country_aqi_means = country_aqi_means.sort_values()\n",
    "\n",
    "# Creating the bar chart\n",
    "plt.figure(figsize=(15, 25)) \n",
    "plt.barh(country_aqi_means.index, country_aqi_means.values, color='skyblue') # Horizontal bar chart\n",
    "plt.xlabel('Average AQI Value')\n",
    "plt.ylabel('Country')\n",
    "plt.title('Average AQI Value by Country')\n",
    "plt.tight_layout() # Adjusts subplot params so that the subplot(s) fits in to the figure area.\n",
    "\n",
    "plt.show()"
   ]
  },
  {
   "cell_type": "code",
   "execution_count": null,
   "id": "1df2225a",
   "metadata": {},
   "outputs": [],
   "source": [
    "# Grouping the data by 'Country' and calculating the mean 'PM2.5 AQI Value' for each country\n",
    "country_pm25_means = df.groupby('Country')['PM2.5 AQI Value'].mean()\n",
    "# Sorting the countries by PM2.5 AQI value for better visualization\n",
    "country_pm25_means = country_pm25_means.sort_values()\n",
    "# Creating the bar chart\n",
    "plt.figure(figsize=(15, 25))\n",
    "plt.barh(country_pm25_means.index, country_pm25_means.values, color='skyblue') # Horizontal bar chart\n",
    "plt.xlabel('Average PM2.5 AQI Value')\n",
    "plt.ylabel('Country')\n",
    "plt.title('Average PM2.5 AQI Value by Country')\n",
    "plt.tight_layout() # Adjusts subplot params so that the subplot(s) fits in to the figure area.\n",
    "plt.show()\n"
   ]
  },
  {
   "cell_type": "code",
   "execution_count": null,
   "id": "ae1beec6",
   "metadata": {},
   "outputs": [],
   "source": [
    "X = df['AQI Value'].values.reshape(-1, 1)\n",
    "y = df['PM2.5 AQI Value'].values.reshape(-1, 1)"
   ]
  },
  {
   "cell_type": "code",
   "execution_count": null,
   "id": "734a965a",
   "metadata": {},
   "outputs": [],
   "source": [
    "# plot all\n",
    "plt.ylabel('PM2.5 AQI Value')\n",
    "plt.xlabel('AQI Value')\n",
    "plt.scatter(X, y, color='blue')\n",
    "plt.show()"
   ]
  },
  {
   "cell_type": "code",
   "execution_count": null,
   "id": "14117185",
   "metadata": {},
   "outputs": [],
   "source": [
    "# X_train, X_test, y_train, y_test = train_test_split(X, y, random_state=1)\n",
    "X_train, X_test, y_train, y_test = train_test_split(X, y, random_state=123, test_size=0.15) "
   ]
  },
  {
   "cell_type": "code",
   "execution_count": null,
   "id": "a6895792",
   "metadata": {},
   "outputs": [],
   "source": [
    "# the shape of the subsets\n",
    "print(X_train.shape)\n",
    "print(y_train.shape)\n",
    "print(X_test.shape)\n",
    "print(y_test.shape)"
   ]
  },
  {
   "cell_type": "code",
   "execution_count": null,
   "id": "b4c3a40f",
   "metadata": {},
   "outputs": [],
   "source": [
    "# creating an instance of Linear Regression model\n",
    "myreg = LinearRegression()"
   ]
  },
  {
   "cell_type": "code",
   "execution_count": null,
   "id": "52da9438",
   "metadata": {},
   "outputs": [],
   "source": [
    "# fit it to our data\n",
    "myreg.fit(X_train, y_train)\n",
    "myreg"
   ]
  },
  {
   "cell_type": "code",
   "execution_count": null,
   "id": "b26e4df9",
   "metadata": {},
   "outputs": [],
   "source": [
    "# get the calculated coefficients\n",
    "a = myreg.coef_\n",
    "b = myreg.intercept_"
   ]
  },
  {
   "cell_type": "code",
   "execution_count": null,
   "id": "b29b8207",
   "metadata": {},
   "outputs": [],
   "source": [
    "a"
   ]
  },
  {
   "cell_type": "code",
   "execution_count": null,
   "id": "89c9f48a",
   "metadata": {},
   "outputs": [],
   "source": [
    "b"
   ]
  },
  {
   "cell_type": "code",
   "execution_count": null,
   "id": "d703a4bd",
   "metadata": {},
   "outputs": [],
   "source": [
    "y_predicted = myreg.predict(X_test)\n",
    "y_predicted"
   ]
  },
  {
   "cell_type": "code",
   "execution_count": null,
   "id": "91ad11cf",
   "metadata": {},
   "outputs": [],
   "source": [
    "y_test"
   ]
  },
  {
   "cell_type": "code",
   "execution_count": null,
   "id": "c1e01d2f",
   "metadata": {},
   "outputs": [],
   "source": [
    "# Visualise the Linear Regression \n",
    "plt.title('Linear Regression')\n",
    "plt.scatter(X, y, color='green')\n",
    "plt.plot(X_train, a*X_train + b, color='blue')\n",
    "plt.plot(X_test, y_predicted, color='orange')\n",
    "plt.xlabel('length')\n",
    "plt.ylabel('age')\n",
    "plt.show()\n"
   ]
  },
  {
   "cell_type": "code",
   "execution_count": null,
   "id": "4d67d458",
   "metadata": {},
   "outputs": [],
   "source": [
    "from sklearn.metrics import mean_squared_error, r2_score\n",
    "\n",
    "# Predicting on the test set\n",
    "y_pred = myreg.predict(X_test)\n",
    "\n",
    "# Calculating metrics\n",
    "print(\"R^2: \", r2_score(y_test, y_pred))\n",
    "print(\"RMSE: \", np.sqrt(mean_squared_error(y_test, y_pred)))"
   ]
  },
  {
   "cell_type": "code",
   "execution_count": null,
   "id": "be591e42",
   "metadata": {},
   "outputs": [],
   "source": [
    "#create a scatter plot of the 'AQI Value' and 'PM2.5 AQI Value' columns and color the points by the 'Country' column\n",
    "fig = px.scatter(df, x='AQI Value', y='PM2.5 AQI Value', color='Country', title='AQI Value vs PM2.5 AQI Value')\n",
    "fig.show()\n"
   ]
  },
  {
   "cell_type": "code",
   "execution_count": null,
   "id": "9940e5e2",
   "metadata": {},
   "outputs": [],
   "source": [
    "# divide the data into 5 clusters using the KMeans algorithm\n",
    "from sklearn.cluster import KMeans\n",
    "kmeans = KMeans(n_clusters=5)\n",
    "kmeans.fit(df[['AQI Value', 'PM2.5 AQI Value']])\n",
    "df['cluster'] = kmeans.predict(df[['AQI Value', 'PM2.5 AQI Value']])\n",
    "df.sample(10)\n",
    "\n"
   ]
  },
  {
   "cell_type": "code",
   "execution_count": null,
   "id": "9b38e6f2",
   "metadata": {},
   "outputs": [],
   "source": [
    "# create a scatter plot of the 'AQI Value' and 'PM2.5 AQI Value' columns and color the points by the 'cluster' column\n",
    "fig = px.scatter(df, x='AQI Value', y='PM2.5 AQI Value', color='cluster', title='AQI Value vs PM2.5 AQI Value')\n",
    "fig.show()\n"
   ]
  },
  {
   "cell_type": "code",
   "execution_count": null,
   "id": "bbcd2c37",
   "metadata": {},
   "outputs": [],
   "source": [
    "# Fit the model and predict clusters\n",
    "kmeans = KMeans(n_clusters=5, random_state=42).fit(df_filtered[['AQI Value', 'PM2.5 AQI Value']])\n",
    "df_filtered['cluster'] = kmeans.labels_\n",
    "\n",
    "# Analyze centroids\n",
    "centroids = kmeans.cluster_centers_\n",
    "print(\"Centroids:\\n\", centroids)\n",
    "\n",
    "# Plotting clusters and centroids\n",
    "plt.figure(figsize=(10, 6))\n",
    "sns.scatterplot(data=df_filtered, x='AQI Value', y='PM2.5 AQI Value', hue='cluster', palette='viridis')\n",
    "plt.scatter(centroids[:, 0], centroids[:, 1], s=100, c='red', label='Centroids')\n",
    "plt.legend()\n",
    "plt.show()\n"
   ]
  },
  {
   "cell_type": "code",
   "execution_count": null,
   "id": "54d392b2",
   "metadata": {},
   "outputs": [],
   "source": []
  }
 ],
 "metadata": {
  "kernelspec": {
   "display_name": "Python 3 (ipykernel)",
   "language": "python",
   "name": "python3"
  },
  "language_info": {
   "codemirror_mode": {
    "name": "ipython",
    "version": 3
   },
   "file_extension": ".py",
   "mimetype": "text/x-python",
   "name": "python",
   "nbconvert_exporter": "python",
   "pygments_lexer": "ipython3",
   "version": "3.11.5"
  }
 },
 "nbformat": 4,
 "nbformat_minor": 5
}
