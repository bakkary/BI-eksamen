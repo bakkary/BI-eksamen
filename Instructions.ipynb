{
 "cells": [
  {
   "cell_type": "code",
   "execution_count": null,
   "metadata": {},
   "outputs": [],
   "source": [
    "## To Run this program, you need to install the following packages:\n",
    "! pip install plotly\n",
    "! pip install Streamlit\n",
    "! pip install folium\n",
    "! pip install python-Levenshtein\n",
    "! pip install pycountry-convert\n",
    "! pip install streamlit-folium\n",
    "! pip install branca\n",
    "! pip install joblib\n"
   ]
  },
  {
   "cell_type": "code",
   "execution_count": null,
   "metadata": {},
   "outputs": [],
   "source": [
    "## And to run this project in streamlit you need to run the following command in the terminal\n",
    "## cd to the streamlit folder example GitHub\\BI-eksamen\\Streamlit\n",
    "## run the command: streamlit run exam.py\n",
    "##NOTE: we do have some caching problems with the names, if loading the projects gives a message \"Geomaps not in moodule\" please rename GeoMaps.py in /bi/streamlit/GeoMaps.py to Geomaps.py and import the correct name in the exam.py file"
   ]
  }
 ],
 "metadata": {
  "language_info": {
   "name": "python"
  }
 },
 "nbformat": 4,
 "nbformat_minor": 2
}
